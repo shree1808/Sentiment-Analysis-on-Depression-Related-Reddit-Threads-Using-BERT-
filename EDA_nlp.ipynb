{
 "cells": [
  {
   "cell_type": "code",
   "execution_count": 1,
   "metadata": {},
   "outputs": [
    {
     "name": "stderr",
     "output_type": "stream",
     "text": [
      "[nltk_data] Downloading package punkt to\n",
      "[nltk_data]     C:\\Users\\Shree123\\AppData\\Roaming\\nltk_data...\n",
      "[nltk_data]   Package punkt is already up-to-date!\n",
      "[nltk_data] Downloading package stopwords to\n",
      "[nltk_data]     C:\\Users\\Shree123\\AppData\\Roaming\\nltk_data...\n",
      "[nltk_data]   Package stopwords is already up-to-date!\n"
     ]
    }
   ],
   "source": [
    "import pandas as pd\n",
    "import matplotlib.pyplot as plt\n",
    "import seaborn as sns\n",
    "import nltk\n",
    "import warnings \n",
    "warnings.filterwarnings('ignore')\n",
    "\n",
    "from collections import Counter\n",
    "from nltk.tokenize import word_tokenize, sent_tokenize\n",
    "import string\n",
    "from nltk.corpus import stopwords\n",
    "\n",
    "# Ensure necessary NLTK data is downloaded\n",
    "nltk.download('punkt')\n",
    "nltk.download('stopwords')\n",
    "\n",
    "import re"
   ]
  },
  {
   "cell_type": "code",
   "execution_count": 2,
   "metadata": {},
   "outputs": [],
   "source": [
    "# import data\n",
    "main_df = pd.read_csv('C://Users//Shree123//depression_prediction//Data//mentalhealth_comments.csv')"
   ]
  },
  {
   "cell_type": "code",
   "execution_count": 3,
   "metadata": {},
   "outputs": [
    {
     "data": {
      "text/html": [
       "<div>\n",
       "<style scoped>\n",
       "    .dataframe tbody tr th:only-of-type {\n",
       "        vertical-align: middle;\n",
       "    }\n",
       "\n",
       "    .dataframe tbody tr th {\n",
       "        vertical-align: top;\n",
       "    }\n",
       "\n",
       "    .dataframe thead th {\n",
       "        text-align: right;\n",
       "    }\n",
       "</style>\n",
       "<table border=\"1\" class=\"dataframe\">\n",
       "  <thead>\n",
       "    <tr style=\"text-align: right;\">\n",
       "      <th></th>\n",
       "      <th>comment_id</th>\n",
       "      <th>comment_body</th>\n",
       "    </tr>\n",
       "  </thead>\n",
       "  <tbody>\n",
       "    <tr>\n",
       "      <th>0</th>\n",
       "      <td>kf5y81z</td>\n",
       "      <td>\"avoid alcohol\" + \"socialize\" .....I don't und...</td>\n",
       "    </tr>\n",
       "    <tr>\n",
       "      <th>1</th>\n",
       "      <td>kf5f93l</td>\n",
       "      <td>Who tf keeps a journal???</td>\n",
       "    </tr>\n",
       "    <tr>\n",
       "      <th>2</th>\n",
       "      <td>kf6eh7s</td>\n",
       "      <td>I actually do all those things. If I start let...</td>\n",
       "    </tr>\n",
       "    <tr>\n",
       "      <th>3</th>\n",
       "      <td>kf683kn</td>\n",
       "      <td>\"Avoid caffeine\" NO.</td>\n",
       "    </tr>\n",
       "    <tr>\n",
       "      <th>4</th>\n",
       "      <td>kf6c2c0</td>\n",
       "      <td>“Don’t do things that you know are bad for you...</td>\n",
       "    </tr>\n",
       "  </tbody>\n",
       "</table>\n",
       "</div>"
      ],
      "text/plain": [
       "  comment_id                                       comment_body\n",
       "0    kf5y81z  \"avoid alcohol\" + \"socialize\" .....I don't und...\n",
       "1    kf5f93l                          Who tf keeps a journal???\n",
       "2    kf6eh7s  I actually do all those things. If I start let...\n",
       "3    kf683kn                               \"Avoid caffeine\" NO.\n",
       "4    kf6c2c0  “Don’t do things that you know are bad for you..."
      ]
     },
     "execution_count": 3,
     "metadata": {},
     "output_type": "execute_result"
    }
   ],
   "source": [
    "df = main_df[['comment_id', 'comment_body']]\n",
    "\n",
    "df.head()"
   ]
  },
  {
   "cell_type": "code",
   "execution_count": 4,
   "metadata": {},
   "outputs": [
    {
     "data": {
      "text/plain": [
       "(2995, 2)"
      ]
     },
     "execution_count": 4,
     "metadata": {},
     "output_type": "execute_result"
    }
   ],
   "source": [
    "df.shape"
   ]
  },
  {
   "cell_type": "code",
   "execution_count": 5,
   "metadata": {},
   "outputs": [
    {
     "data": {
      "text/plain": [
       "comment_id      0\n",
       "comment_body    0\n",
       "dtype: int64"
      ]
     },
     "execution_count": 5,
     "metadata": {},
     "output_type": "execute_result"
    }
   ],
   "source": [
    "df.isnull().sum()"
   ]
  },
  {
   "cell_type": "code",
   "execution_count": 6,
   "metadata": {},
   "outputs": [
    {
     "name": "stdout",
     "output_type": "stream",
     "text": [
      "Maximum Character Length in the Corpus :: 1588\n",
      "Minimum Character Length in the Corpus :: 3\n"
     ]
    }
   ],
   "source": [
    "# Character count\n",
    "max_len = max(df['comment_body'].apply(len))\n",
    "print(f'Maximum Character Length in the Corpus :: {max_len}')\n",
    "\n",
    "min_len = min(df['comment_body'].apply(len))\n",
    "print(f'Minimum Character Length in the Corpus :: {min_len}')\n",
    "\n",
    "df['char_count'] = df['comment_body'].apply(len)\n",
    "df['word_count'] = df['comment_body'].apply(lambda x: len(sent_tokenize(x)))\n",
    "df['sentence_count'] = df['comment_body'].apply(lambda x: len(sent_tokenize(x)))"
   ]
  },
  {
   "cell_type": "code",
   "execution_count": 7,
   "metadata": {},
   "outputs": [
    {
     "data": {
      "image/png": "[encoded data removed]",
      "text/plain": [
       "<Figure size 600x600 with 1 Axes>"
      ]
     },
     "metadata": {},
     "output_type": "display_data"
    },
    {
     "data": {
      "image/png": "[encoded data removed]",
      "text/plain": [
       "<Figure size 600x600 with 1 Axes>"
      ]
     },
     "metadata": {},
     "output_type": "display_data"
    }
   ],
   "source": [
    "# Plot distributions of text lengths\n",
    "plt.figure(figsize=(6, 6))\n",
    "plt.hist(df['char_count'], bins=10, color='blue', alpha=0.7)\n",
    "plt.title('Character Count Distribution')\n",
    "plt.xlabel('Number of Characters')\n",
    "plt.ylabel('Frequency')\n",
    "plt.show()\n",
    "\n",
    "plt.figure(figsize=(6, 6))\n",
    "plt.hist(df['word_count'], bins=10, color='green', alpha=0.7)\n",
    "plt.title('Word Count Distribution')\n",
    "plt.xlabel('Number of Words')\n",
    "plt.ylabel('Frequency')\n",
    "plt.show()"
   ]
  },
  {
   "cell_type": "code",
   "execution_count": 8,
   "metadata": {},
   "outputs": [
    {
     "name": "stdout",
     "output_type": "stream",
     "text": [
      "Number of unique words: 1413\n",
      "Most common words: [('good', 687), ('like', 514), ('people', 510), ('things', 498), ('one', 465), ('time', 411), ('get', 396), ('mental', 394), ('health', 342), ('bad', 341)]\n"
     ]
    },
    {
     "data": {
      "image/png": "[encoded data removed]",
      "text/plain": [
       "<Figure size 1000x600 with 1 Axes>"
      ]
     },
     "metadata": {},
     "output_type": "display_data"
    }
   ],
   "source": [
    "all_words = ' '.join(df['comment_body']).lower()\n",
    "tokens = word_tokenize(all_words)\n",
    "tokens = [word for word in tokens if word.isalnum() and word not in stopwords.words('english')]\n",
    "\n",
    "# Counting unique words\n",
    "unique_words = set(tokens)\n",
    "print(f'Number of unique words: {len(unique_words)}')\n",
    "\n",
    "# Identifying the most common words and their frequencies\n",
    "word_freq = Counter(tokens)\n",
    "common_words = word_freq.most_common(10)\n",
    "print('Most common words:', common_words)\n",
    "\n",
    "words, frequencies = zip(*common_words)\n",
    "\n",
    "# Visualizing the common words\n",
    "plt.figure(figsize=(10, 6))\n",
    "plt.bar(words, frequencies, color='skyblue')\n",
    "plt.xlabel('Words')\n",
    "plt.ylabel('Frequencies')\n",
    "plt.title('Top 10 Most Common Words')\n",
    "plt.xticks(rotation=45)\n",
    "plt.show()"
   ]
  },
  {
   "cell_type": "code",
   "execution_count": 9,
   "metadata": {},
   "outputs": [],
   "source": [
    "def preprocess_text(text):\n",
    "    text = text.lower()\n",
    "    text = re.sub(r'[^a-zA-Z\\s\\U0001F600-\\U0001F64F\\U0001F300-\\U0001F5FF\\U0001F680-\\U0001F6FF\\U0001F700-\\U0001F77F]', '', text)\n",
    "    words = word_tokenize(text)\n",
    "    stop_words = set(stopwords.words('english'))\n",
    "    filtered_words = [word for word in words if word not in stop_words]\n",
    "    text = ' '.join(filtered_words)\n",
    "    return text\n",
    "\n",
    "df['cleaned_comment_text'] = df['comment_body'].apply(preprocess_text)"
   ]
  },
  {
   "cell_type": "code",
   "execution_count": 10,
   "metadata": {},
   "outputs": [
    {
     "data": {
      "text/plain": [
       "0              avoid alcohol socialize dont understand\n",
       "1                                     tf keeps journal\n",
       "2    actually things start letting practices slip s...\n",
       "3                                       avoid caffeine\n",
       "4     dont things know bad much keep track fucking lol\n",
       "Name: cleaned_comment_text, dtype: object"
      ]
     },
     "execution_count": 10,
     "metadata": {},
     "output_type": "execute_result"
    }
   ],
   "source": [
    "df.iloc[:5,-1]"
   ]
  },
  {
   "cell_type": "code",
   "execution_count": 11,
   "metadata": {},
   "outputs": [
    {
     "name": "stderr",
     "output_type": "stream",
     "text": [
      "[nltk_data] Downloading package vader_lexicon to\n",
      "[nltk_data]     C:\\Users\\Shree123\\AppData\\Roaming\\nltk_data...\n",
      "[nltk_data]   Package vader_lexicon is already up-to-date!\n"
     ]
    }
   ],
   "source": [
    "from nltk.sentiment.vader import SentimentIntensityAnalyzer\n",
    "\n",
    "nltk.download('vader_lexicon')\n",
    "\n",
    "vader_analyzer = SentimentIntensityAnalyzer()\n",
    "\n",
    "def sentiment_analyzer(text):\n",
    "    scores = vader_analyzer.polarity_scores(text)\n",
    "    compound_score = scores['compound']\n",
    "    return 'positive' if compound_score >= 0 else 'negative'    "
   ]
  },
  {
   "cell_type": "code",
   "execution_count": 12,
   "metadata": {},
   "outputs": [
    {
     "data": {
      "text/html": [
       "<div>\n",
       "<style scoped>\n",
       "    .dataframe tbody tr th:only-of-type {\n",
       "        vertical-align: middle;\n",
       "    }\n",
       "\n",
       "    .dataframe tbody tr th {\n",
       "        vertical-align: top;\n",
       "    }\n",
       "\n",
       "    .dataframe thead th {\n",
       "        text-align: right;\n",
       "    }\n",
       "</style>\n",
       "<table border=\"1\" class=\"dataframe\">\n",
       "  <thead>\n",
       "    <tr style=\"text-align: right;\">\n",
       "      <th></th>\n",
       "      <th>comment_id</th>\n",
       "      <th>comment_body</th>\n",
       "      <th>char_count</th>\n",
       "      <th>word_count</th>\n",
       "      <th>sentence_count</th>\n",
       "      <th>cleaned_comment_text</th>\n",
       "      <th>sentiment</th>\n",
       "    </tr>\n",
       "  </thead>\n",
       "  <tbody>\n",
       "    <tr>\n",
       "      <th>0</th>\n",
       "      <td>kf5y81z</td>\n",
       "      <td>\"avoid alcohol\" + \"socialize\" .....I don't und...</td>\n",
       "      <td>53</td>\n",
       "      <td>1</td>\n",
       "      <td>1</td>\n",
       "      <td>avoid alcohol socialize dont understand</td>\n",
       "      <td>negative</td>\n",
       "    </tr>\n",
       "    <tr>\n",
       "      <th>1</th>\n",
       "      <td>kf5f93l</td>\n",
       "      <td>Who tf keeps a journal???</td>\n",
       "      <td>25</td>\n",
       "      <td>2</td>\n",
       "      <td>2</td>\n",
       "      <td>tf keeps journal</td>\n",
       "      <td>positive</td>\n",
       "    </tr>\n",
       "    <tr>\n",
       "      <th>2</th>\n",
       "      <td>kf6eh7s</td>\n",
       "      <td>I actually do all those things. If I start let...</td>\n",
       "      <td>792</td>\n",
       "      <td>14</td>\n",
       "      <td>14</td>\n",
       "      <td>actually things start letting practices slip s...</td>\n",
       "      <td>positive</td>\n",
       "    </tr>\n",
       "    <tr>\n",
       "      <th>3</th>\n",
       "      <td>kf683kn</td>\n",
       "      <td>\"Avoid caffeine\" NO.</td>\n",
       "      <td>20</td>\n",
       "      <td>1</td>\n",
       "      <td>1</td>\n",
       "      <td>avoid caffeine</td>\n",
       "      <td>negative</td>\n",
       "    </tr>\n",
       "    <tr>\n",
       "      <th>4</th>\n",
       "      <td>kf6c2c0</td>\n",
       "      <td>“Don’t do things that you know are bad for you...</td>\n",
       "      <td>99</td>\n",
       "      <td>1</td>\n",
       "      <td>1</td>\n",
       "      <td>dont things know bad much keep track fucking lol</td>\n",
       "      <td>positive</td>\n",
       "    </tr>\n",
       "  </tbody>\n",
       "</table>\n",
       "</div>"
      ],
      "text/plain": [
       "  comment_id                                       comment_body  char_count  \\\n",
       "0    kf5y81z  \"avoid alcohol\" + \"socialize\" .....I don't und...          53   \n",
       "1    kf5f93l                          Who tf keeps a journal???          25   \n",
       "2    kf6eh7s  I actually do all those things. If I start let...         792   \n",
       "3    kf683kn                               \"Avoid caffeine\" NO.          20   \n",
       "4    kf6c2c0  “Don’t do things that you know are bad for you...          99   \n",
       "\n",
       "   word_count  sentence_count  \\\n",
       "0           1               1   \n",
       "1           2               2   \n",
       "2          14              14   \n",
       "3           1               1   \n",
       "4           1               1   \n",
       "\n",
       "                                cleaned_comment_text sentiment  \n",
       "0            avoid alcohol socialize dont understand  negative  \n",
       "1                                   tf keeps journal  positive  \n",
       "2  actually things start letting practices slip s...  positive  \n",
       "3                                     avoid caffeine  negative  \n",
       "4   dont things know bad much keep track fucking lol  positive  "
      ]
     },
     "execution_count": 12,
     "metadata": {},
     "output_type": "execute_result"
    }
   ],
   "source": [
    "df['sentiment'] = df['cleaned_comment_text'].apply(sentiment_analyzer)\n",
    "df.head()"
   ]
  },
  {
   "cell_type": "code",
   "execution_count": 13,
   "metadata": {},
   "outputs": [
    {
     "data": {
      "image/png": "[encoded data removed]",
      "text/plain": [
       "<Figure size 640x480 with 1 Axes>"
      ]
     },
     "metadata": {},
     "output_type": "display_data"
    }
   ],
   "source": [
    "sns.set_palette('Set2')\n",
    "sns.countplot(df['sentiment'])\n",
    "plt.show()"
   ]
  },
  {
   "cell_type": "code",
   "execution_count": 14,
   "metadata": {},
   "outputs": [
    {
     "data": {
      "text/plain": [
       "0           [avoid, alcohol, socialize, dont, understand]\n",
       "1                                    [tf, keeps, journal]\n",
       "2       [actually, things, start, letting, practices, ...\n",
       "3                                       [avoid, caffeine]\n",
       "4       [dont, things, know, bad, much, keep, track, f...\n",
       "                              ...                        \n",
       "2990        [liter, waterday, healthy, amount, weigh, lb]\n",
       "2991    [unironically, reminded, go, basic, task, thanks]\n",
       "2992                [good, diet, n, good, sleep, u, need]\n",
       "2993                                 [mean, little, porn]\n",
       "2994                                        [wrong, porn]\n",
       "Name: tokens, Length: 2995, dtype: object"
      ]
     },
     "execution_count": 14,
     "metadata": {},
     "output_type": "execute_result"
    }
   ],
   "source": [
    "from nltk.tokenize import word_tokenize\n",
    "\n",
    "df['tokens'] = df['cleaned_comment_text'].apply(word_tokenize)\n",
    "df['tokens']"
   ]
  },
  {
   "cell_type": "code",
   "execution_count": 15,
   "metadata": {},
   "outputs": [],
   "source": [
    "from sklearn.feature_extraction.text import CountVectorizer"
   ]
  },
  {
   "cell_type": "code",
   "execution_count": 16,
   "metadata": {},
   "outputs": [
    {
     "name": "stdout",
     "output_type": "stream",
     "text": [
      "[[1 0 0 0 0]\n",
      " [0 0 0 0 0]\n",
      " [0 2 1 0 1]\n",
      " ...\n",
      " [0 2 0 0 0]\n",
      " [0 0 0 0 0]\n",
      " [0 0 0 0 0]]\n"
     ]
    }
   ],
   "source": [
    "vectorizer = CountVectorizer(max_features=5)\n",
    "\n",
    "X = vectorizer.fit_transform(df['cleaned_comment_text'])\n",
    "\n",
    "print(X.toarray())"
   ]
  },
  {
   "cell_type": "code",
   "execution_count": 17,
   "metadata": {},
   "outputs": [],
   "source": [
    "y = df[['sentiment']]"
   ]
  },
  {
   "cell_type": "markdown",
   "metadata": {},
   "source": [
    "Since there is a potential class imbalance I would be performing SMOTE oversampling"
   ]
  },
  {
   "cell_type": "code",
   "execution_count": 18,
   "metadata": {},
   "outputs": [],
   "source": [
    "from imblearn.over_sampling import SMOTE\n",
    "from sklearn.model_selection import train_test_split"
   ]
  },
  {
   "cell_type": "code",
   "execution_count": 19,
   "metadata": {},
   "outputs": [],
   "source": [
    "X_train, X_test, y_train, y_test = train_test_split(X, y, test_size=0.2, random_state=42, stratify=y)\n",
    "\n",
    "smote = SMOTE(random_state=42)\n",
    "X_train_res, y_train_res = smote.fit_resample(X_train, y_train)"
   ]
  },
  {
   "cell_type": "code",
   "execution_count": 20,
   "metadata": {},
   "outputs": [
    {
     "data": {
      "text/plain": [
       "((3260, 5), (3260, 1), (599, 5), (599, 1))"
      ]
     },
     "execution_count": 20,
     "metadata": {},
     "output_type": "execute_result"
    }
   ],
   "source": [
    "X_train_res.shape, y_train_res.shape, X_test.shape, y_test.shape"
   ]
  },
  {
   "cell_type": "code",
   "execution_count": 21,
   "metadata": {},
   "outputs": [],
   "source": [
    "from sklearn.ensemble import RandomForestClassifier\n",
    "from sklearn.metrics import classification_report"
   ]
  },
  {
   "cell_type": "code",
   "execution_count": 22,
   "metadata": {},
   "outputs": [
    {
     "name": "stdout",
     "output_type": "stream",
     "text": [
      "              precision    recall  f1-score   support\n",
      "\n",
      "    negative       0.62      0.45      0.52       191\n",
      "    positive       0.77      0.88      0.82       408\n",
      "\n",
      "    accuracy                           0.74       599\n",
      "   macro avg       0.70      0.66      0.67       599\n",
      "weighted avg       0.72      0.74      0.72       599\n",
      "\n"
     ]
    }
   ],
   "source": [
    "classifier = RandomForestClassifier(random_state=42)\n",
    "classifier.fit(X_train_res, y_train_res)\n",
    "y_pred = classifier.predict(X_test)\n",
    "\n",
    "# Step 5: Evaluate the model\n",
    "print(classification_report(y_test, y_pred))"
   ]
  },
  {
   "cell_type": "code",
   "execution_count": 23,
   "metadata": {},
   "outputs": [],
   "source": [
    "from sklearn.preprocessing import LabelEncoder\n",
    "\n",
    "le = LabelEncoder()\n",
    "\n",
    "enc_y_train = le.fit_transform(y_train_res)\n",
    "\n",
    "enc_y_test = le.fit_transform(y_test)"
   ]
  },
  {
   "cell_type": "code",
   "execution_count": 24,
   "metadata": {},
   "outputs": [],
   "source": [
    "from xgboost import XGBClassifier"
   ]
  },
  {
   "cell_type": "code",
   "execution_count": 25,
   "metadata": {},
   "outputs": [
    {
     "name": "stdout",
     "output_type": "stream",
     "text": [
      "classification report with XGB \n",
      "::               precision    recall  f1-score   support\n",
      "\n",
      "           0       0.62      0.45      0.52       191\n",
      "           1       0.77      0.88      0.82       408\n",
      "\n",
      "    accuracy                           0.74       599\n",
      "   macro avg       0.70      0.66      0.67       599\n",
      "weighted avg       0.72      0.74      0.72       599\n",
      "\n"
     ]
    }
   ],
   "source": [
    "model = XGBClassifier(random_state = 42)\n",
    "model.fit(X_train_res, enc_y_train)\n",
    "y_pred = model.predict(X_test)\n",
    "\n",
    "print(f'classification report with XGB \\n:: {classification_report(enc_y_test, y_pred)}')"
   ]
  },
  {
   "cell_type": "markdown",
   "metadata": {},
   "source": [
    "Checking the Model Performance on the Unseen Data"
   ]
  },
  {
   "cell_type": "code",
   "execution_count": 26,
   "metadata": {},
   "outputs": [],
   "source": [
    "import joblib as jb"
   ]
  },
  {
   "cell_type": "code",
   "execution_count": 27,
   "metadata": {},
   "outputs": [
    {
     "data": {
      "text/plain": [
       "['RF_model.pkl']"
      ]
     },
     "execution_count": 27,
     "metadata": {},
     "output_type": "execute_result"
    }
   ],
   "source": [
    "jb.dump(model, 'XGB_model.pkl')\n",
    "\n",
    "jb.dump(classifier, \"RF_model.pkl\")"
   ]
  },
  {
   "cell_type": "code",
   "execution_count": 28,
   "metadata": {},
   "outputs": [],
   "source": [
    "model = jb.load('XGB_model.pkl')\n",
    "\n",
    "rf_model = jb.load('RF_model.pkl')"
   ]
  },
  {
   "cell_type": "code",
   "execution_count": 29,
   "metadata": {},
   "outputs": [],
   "source": [
    "# Sample tweets\n",
    "\n",
    "tweet1 = ['Today I felt the sun on my face and for a moment, everything felt okay. Taking one step at a time, finding small joys in the journey. #MentalHealthAwareness #StayStrong']\n",
    "\n",
    "tweet2 = ['Feeling overwhelmed and lost in this darkness. It’s like a heavy cloud that I can’t shake off. Just tired of fighting. #Depression #MentalHealth']\n",
    "\n",
    "tweet3 = ['I made it through. Grateful for small victories. #KeepGoing 💪']\n",
    "\n",
    "tweet4 = ['good therapy session today. Feeling hopeful']"
   ]
  },
  {
   "cell_type": "code",
   "execution_count": 30,
   "metadata": {},
   "outputs": [
    {
     "name": "stdout",
     "output_type": "stream",
     "text": [
      "['made grateful small victories keepgoing 💪']\n"
     ]
    },
    {
     "data": {
      "text/plain": [
       "<1x5 sparse matrix of type '<class 'numpy.int64'>'\n",
       "\twith 0 stored elements in Compressed Sparse Row format>"
      ]
     },
     "execution_count": 30,
     "metadata": {},
     "output_type": "execute_result"
    }
   ],
   "source": [
    "cleaned_text_1 = [preprocess_text(text) for text in tweet3]\n",
    "\n",
    "print(cleaned_text_1)\n",
    "\n",
    "vectorized_text_1 = vectorizer.transform(cleaned_text_1)\n",
    "\n",
    "vectorized_text_1\n"
   ]
  },
  {
   "cell_type": "code",
   "execution_count": 31,
   "metadata": {},
   "outputs": [],
   "source": [
    "predictions = rf_model.predict(vectorized_text_1)"
   ]
  },
  {
   "cell_type": "code",
   "execution_count": 32,
   "metadata": {},
   "outputs": [
    {
     "data": {
      "text/plain": [
       "array(['positive'], dtype=object)"
      ]
     },
     "execution_count": 32,
     "metadata": {},
     "output_type": "execute_result"
    }
   ],
   "source": [
    "predictions"
   ]
  },
  {
   "cell_type": "markdown",
   "metadata": {},
   "source": [
    "After Comparative Analysis and Generalization capabilities of both the models I can conclude that RF model provides better and realistic results"
   ]
  },
  {
   "cell_type": "code",
   "execution_count": 33,
   "metadata": {},
   "outputs": [
    {
     "data": {
      "text/plain": [
       "['vectorizer.pkl']"
      ]
     },
     "execution_count": 33,
     "metadata": {},
     "output_type": "execute_result"
    }
   ],
   "source": [
    "jb.dump(vectorizer, 'vectorizer.pkl')"
   ]
  }
 ],
 "metadata": {
  "kernelspec": {
   "display_name": "nlp_venv",
   "language": "python",
   "name": "python3"
  },
  "language_info": {
   "codemirror_mode": {
    "name": "ipython",
    "version": 3
   },
   "file_extension": ".py",
   "mimetype": "text/x-python",
   "name": "python",
   "nbconvert_exporter": "python",
   "pygments_lexer": "ipython3",
   "version": "3.9.19"
  }
 },
 "nbformat": 4,
 "nbformat_minor": 2
}
