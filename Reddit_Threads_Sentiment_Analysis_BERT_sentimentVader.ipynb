{
  "nbformat": 4,
  "nbformat_minor": 0,
  "metadata": {
    "colab": {
      "provenance": []
    },
    "kernelspec": {
      "name": "python3",
      "display_name": "Python 3"
    },
    "language_info": {
      "name": "python"
    }
  },
  "cells": [
    {
      "cell_type": "code",
      "source": [
        "# !pip uninstall tensorflow\n",
        "# !pip install tensorflow_hub\n",
        "# !pip install tensorflow_text"
      ],
      "metadata": {
        "id": "R-VTrhMMqcM1"
      },
      "execution_count": null,
      "outputs": []
    },
    {
      "cell_type": "code",
      "source": [
        "# pip install tensorflow==2.15.*\n",
        "# !pip install -U \"tensorflow-text==2.15.*\"\n",
        "# !pip install -U \"tf-models-official==2.15.*\""
      ],
      "metadata": {
        "id": "zLLE9H584MHK"
      },
      "execution_count": null,
      "outputs": []
    },
    {
      "cell_type": "code",
      "source": [
        "import tensorflow_hub as hub\n",
        "import tensorflow_text as text\n",
        "import tensorflow as tf\n",
        "\n",
        "import pandas as pd\n",
        "import nltk\n",
        "import numpy as np\n",
        "from sklearn.model_selection import train_test_split\n",
        "from nltk.tokenize import word_tokenize, sent_tokenize\n",
        "import string, re, nltk\n",
        "from nltk.corpus import stopwords\n",
        "nltk.download('punkt')\n",
        "nltk.download('stopwords')\n",
        "\n",
        "import warnings\n",
        "warnings.filterwarnings('ignore')"
      ],
      "metadata": {
        "id": "IlHlyB89jogr",
        "colab": {
          "base_uri": "https://localhost:8080/"
        },
        "outputId": "01f350b4-ffc4-4bd8-aa8d-0474ca43eea9"
      },
      "execution_count": null,
      "outputs": [
        {
          "output_type": "stream",
          "name": "stderr",
          "text": [
            "[nltk_data] Downloading package punkt to /root/nltk_data...\n",
            "[nltk_data]   Unzipping tokenizers/punkt.zip.\n",
            "[nltk_data] Downloading package stopwords to /root/nltk_data...\n",
            "[nltk_data]   Unzipping corpora/stopwords.zip.\n"
          ]
        }
      ]
    },
    {
      "cell_type": "code",
      "source": [
        "preprocessor = hub.KerasLayer(\"https://tfhub.dev/tensorflow/bert_en_uncased_preprocess/3\", name=\"preprocessing\")\n",
        "encoder = hub.KerasLayer(\"https://tfhub.dev/tensorflow/bert_en_uncased_L-12_H-768_A-12/4\", name=\"BERT_encoder\")"
      ],
      "metadata": {
        "id": "ovTVVV2vppn7"
      },
      "execution_count": null,
      "outputs": []
    },
    {
      "cell_type": "markdown",
      "source": [
        "**Example Usage - BERT Processor and Encoder**"
      ],
      "metadata": {
        "id": "Y8aQsSDfoiJP"
      }
    },
    {
      "cell_type": "code",
      "source": [
        "text_test = ['nice movie indeed', 'I hate it sometimes though!!']\n",
        "preprocessed_text = preprocessor(text_test)\n",
        "print(preprocessed_text.keys())\n",
        "\n",
        "output = encoder(preprocessed_text)\n",
        "output.keys()"
      ],
      "metadata": {
        "colab": {
          "base_uri": "https://localhost:8080/"
        },
        "id": "7ABMGK8PtV3O",
        "outputId": "8cf258f4-dc8e-4c66-da69-434ead08afe9"
      },
      "execution_count": null,
      "outputs": [
        {
          "output_type": "stream",
          "name": "stdout",
          "text": [
            "dict_keys(['input_mask', 'input_word_ids', 'input_type_ids'])\n"
          ]
        },
        {
          "output_type": "execute_result",
          "data": {
            "text/plain": [
              "dict_keys(['encoder_outputs', 'pooled_output', 'default', 'sequence_output'])"
            ]
          },
          "metadata": {},
          "execution_count": 5
        }
      ]
    },
    {
      "cell_type": "code",
      "source": [
        "output['pooled_output']"
      ],
      "metadata": {
        "colab": {
          "base_uri": "https://localhost:8080/"
        },
        "id": "pmxFZJ9Ly3yP",
        "outputId": "5fee7c43-16ed-4002-83e6-a6ea5f3207a8"
      },
      "execution_count": null,
      "outputs": [
        {
          "output_type": "execute_result",
          "data": {
            "text/plain": [
              "<tf.Tensor: shape=(2, 768), dtype=float32, numpy=\n",
              "array([[-0.791774  , -0.21411912,  0.49769545, ...,  0.24465235,\n",
              "        -0.47334474,  0.8175869 ],\n",
              "       [-0.7811995 , -0.40898427, -0.48670244, ..., -0.21824645,\n",
              "        -0.62682813,  0.8872608 ]], dtype=float32)>"
            ]
          },
          "metadata": {},
          "execution_count": 6
        }
      ]
    },
    {
      "cell_type": "markdown",
      "source": [
        "**Reading the Saved CSV**"
      ],
      "metadata": {
        "id": "24u-zw_DqFCa"
      }
    },
    {
      "cell_type": "code",
      "source": [
        "df = pd.read_csv('/content/drive/MyDrive/mentalhealth_comments.csv')"
      ],
      "metadata": {
        "id": "zrWzGJlnpEUc"
      },
      "execution_count": null,
      "outputs": []
    },
    {
      "cell_type": "code",
      "source": [
        "df = df[['comment_id', 'comment_body']]\n",
        "df.sample(10)"
      ],
      "metadata": {
        "colab": {
          "base_uri": "https://localhost:8080/",
          "height": 363
        },
        "id": "ODCdffrXpEXT",
        "outputId": "5d5189c0-18dc-4f5d-b6e5-680e002bdd74"
      },
      "execution_count": null,
      "outputs": [
        {
          "output_type": "execute_result",
          "data": {
            "text/plain": [
              "     comment_id                                       comment_body\n",
              "2430    kf6le75  I love a ribeye!\\n\\nThe rest of your comment h...\n",
              "2757    kf5t68o  Good discussion point. Don't agree with all bu...\n",
              "359     kf711qd  Dont avoid fat and sugar avoid getting fat wit...\n",
              "1944    kf8tld1                           What is wrong with porn?\n",
              "2138    kf5kxz0  So we've always had these to some extent. I di...\n",
              "2978    kf683kn                               \"Avoid caffeine\" NO.\n",
              "181     kf6vn7b  Look, jokes aside I cannot understate how all ...\n",
              "926     kfap927  Sometimes you do everything right and it’s sti...\n",
              "1909    kf5wt91  Agreed. So much of this stuff is 'what works f...\n",
              "578     kfekwix  My wife is one of these people and to be hones..."
            ],
            "text/html": [
              "\n",
              "  <div id=\"df-2d1459fe-95d9-4b4d-a89f-c0322ca095cb\" class=\"colab-df-container\">\n",
              "    <div>\n",
              "<style scoped>\n",
              "    .dataframe tbody tr th:only-of-type {\n",
              "        vertical-align: middle;\n",
              "    }\n",
              "\n",
              "    .dataframe tbody tr th {\n",
              "        vertical-align: top;\n",
              "    }\n",
              "\n",
              "    .dataframe thead th {\n",
              "        text-align: right;\n",
              "    }\n",
              "</style>\n",
              "<table border=\"1\" class=\"dataframe\">\n",
              "  <thead>\n",
              "    <tr style=\"text-align: right;\">\n",
              "      <th></th>\n",
              "      <th>comment_id</th>\n",
              "      <th>comment_body</th>\n",
              "    </tr>\n",
              "  </thead>\n",
              "  <tbody>\n",
              "    <tr>\n",
              "      <th>2430</th>\n",
              "      <td>kf6le75</td>\n",
              "      <td>I love a ribeye!\\n\\nThe rest of your comment h...</td>\n",
              "    </tr>\n",
              "    <tr>\n",
              "      <th>2757</th>\n",
              "      <td>kf5t68o</td>\n",
              "      <td>Good discussion point. Don't agree with all bu...</td>\n",
              "    </tr>\n",
              "    <tr>\n",
              "      <th>359</th>\n",
              "      <td>kf711qd</td>\n",
              "      <td>Dont avoid fat and sugar avoid getting fat wit...</td>\n",
              "    </tr>\n",
              "    <tr>\n",
              "      <th>1944</th>\n",
              "      <td>kf8tld1</td>\n",
              "      <td>What is wrong with porn?</td>\n",
              "    </tr>\n",
              "    <tr>\n",
              "      <th>2138</th>\n",
              "      <td>kf5kxz0</td>\n",
              "      <td>So we've always had these to some extent. I di...</td>\n",
              "    </tr>\n",
              "    <tr>\n",
              "      <th>2978</th>\n",
              "      <td>kf683kn</td>\n",
              "      <td>\"Avoid caffeine\" NO.</td>\n",
              "    </tr>\n",
              "    <tr>\n",
              "      <th>181</th>\n",
              "      <td>kf6vn7b</td>\n",
              "      <td>Look, jokes aside I cannot understate how all ...</td>\n",
              "    </tr>\n",
              "    <tr>\n",
              "      <th>926</th>\n",
              "      <td>kfap927</td>\n",
              "      <td>Sometimes you do everything right and it’s sti...</td>\n",
              "    </tr>\n",
              "    <tr>\n",
              "      <th>1909</th>\n",
              "      <td>kf5wt91</td>\n",
              "      <td>Agreed. So much of this stuff is 'what works f...</td>\n",
              "    </tr>\n",
              "    <tr>\n",
              "      <th>578</th>\n",
              "      <td>kfekwix</td>\n",
              "      <td>My wife is one of these people and to be hones...</td>\n",
              "    </tr>\n",
              "  </tbody>\n",
              "</table>\n",
              "</div>\n",
              "    <div class=\"colab-df-buttons\">\n",
              "\n",
              "  <div class=\"colab-df-container\">\n",
              "    <button class=\"colab-df-convert\" onclick=\"convertToInteractive('df-2d1459fe-95d9-4b4d-a89f-c0322ca095cb')\"\n",
              "            title=\"Convert this dataframe to an interactive table.\"\n",
              "            style=\"display:none;\">\n",
              "\n",
              "  <svg xmlns=\"http://www.w3.org/2000/svg\" height=\"24px\" viewBox=\"0 -960 960 960\">\n",
              "    <path d=\"M120-120v-720h720v720H120Zm60-500h600v-160H180v160Zm220 220h160v-160H400v160Zm0 220h160v-160H400v160ZM180-400h160v-160H180v160Zm440 0h160v-160H620v160ZM180-180h160v-160H180v160Zm440 0h160v-160H620v160Z\"/>\n",
              "  </svg>\n",
              "    </button>\n",
              "\n",
              "  <style>\n",
              "    .colab-df-container {\n",
              "      display:flex;\n",
              "      gap: 12px;\n",
              "    }\n",
              "\n",
              "    .colab-df-convert {\n",
              "      background-color: #E8F0FE;\n",
              "      border: none;\n",
              "      border-radius: 50%;\n",
              "      cursor: pointer;\n",
              "      display: none;\n",
              "      fill: #1967D2;\n",
              "      height: 32px;\n",
              "      padding: 0 0 0 0;\n",
              "      width: 32px;\n",
              "    }\n",
              "\n",
              "    .colab-df-convert:hover {\n",
              "      background-color: #E2EBFA;\n",
              "      box-shadow: 0px 1px 2px rgba(60, 64, 67, 0.3), 0px 1px 3px 1px rgba(60, 64, 67, 0.15);\n",
              "      fill: #174EA6;\n",
              "    }\n",
              "\n",
              "    .colab-df-buttons div {\n",
              "      margin-bottom: 4px;\n",
              "    }\n",
              "\n",
              "    [theme=dark] .colab-df-convert {\n",
              "      background-color: #3B4455;\n",
              "      fill: #D2E3FC;\n",
              "    }\n",
              "\n",
              "    [theme=dark] .colab-df-convert:hover {\n",
              "      background-color: #434B5C;\n",
              "      box-shadow: 0px 1px 3px 1px rgba(0, 0, 0, 0.15);\n",
              "      filter: drop-shadow(0px 1px 2px rgba(0, 0, 0, 0.3));\n",
              "      fill: #FFFFFF;\n",
              "    }\n",
              "  </style>\n",
              "\n",
              "    <script>\n",
              "      const buttonEl =\n",
              "        document.querySelector('#df-2d1459fe-95d9-4b4d-a89f-c0322ca095cb button.colab-df-convert');\n",
              "      buttonEl.style.display =\n",
              "        google.colab.kernel.accessAllowed ? 'block' : 'none';\n",
              "\n",
              "      async function convertToInteractive(key) {\n",
              "        const element = document.querySelector('#df-2d1459fe-95d9-4b4d-a89f-c0322ca095cb');\n",
              "        const dataTable =\n",
              "          await google.colab.kernel.invokeFunction('convertToInteractive',\n",
              "                                                    [key], {});\n",
              "        if (!dataTable) return;\n",
              "\n",
              "        const docLinkHtml = 'Like what you see? Visit the ' +\n",
              "          '<a target=\"_blank\" href=https://colab.research.google.com/notebooks/data_table.ipynb>data table notebook</a>'\n",
              "          + ' to learn more about interactive tables.';\n",
              "        element.innerHTML = '';\n",
              "        dataTable['output_type'] = 'display_data';\n",
              "        await google.colab.output.renderOutput(dataTable, element);\n",
              "        const docLink = document.createElement('div');\n",
              "        docLink.innerHTML = docLinkHtml;\n",
              "        element.appendChild(docLink);\n",
              "      }\n",
              "    </script>\n",
              "  </div>\n",
              "\n",
              "\n",
              "<div id=\"df-7c0df8be-7a4e-4b08-84d1-25585377dc2b\">\n",
              "  <button class=\"colab-df-quickchart\" onclick=\"quickchart('df-7c0df8be-7a4e-4b08-84d1-25585377dc2b')\"\n",
              "            title=\"Suggest charts\"\n",
              "            style=\"display:none;\">\n",
              "\n",
              "<svg xmlns=\"http://www.w3.org/2000/svg\" height=\"24px\"viewBox=\"0 0 24 24\"\n",
              "     width=\"24px\">\n",
              "    <g>\n",
              "        <path d=\"M19 3H5c-1.1 0-2 .9-2 2v14c0 1.1.9 2 2 2h14c1.1 0 2-.9 2-2V5c0-1.1-.9-2-2-2zM9 17H7v-7h2v7zm4 0h-2V7h2v10zm4 0h-2v-4h2v4z\"/>\n",
              "    </g>\n",
              "</svg>\n",
              "  </button>\n",
              "\n",
              "<style>\n",
              "  .colab-df-quickchart {\n",
              "      --bg-color: #E8F0FE;\n",
              "      --fill-color: #1967D2;\n",
              "      --hover-bg-color: #E2EBFA;\n",
              "      --hover-fill-color: #174EA6;\n",
              "      --disabled-fill-color: #AAA;\n",
              "      --disabled-bg-color: #DDD;\n",
              "  }\n",
              "\n",
              "  [theme=dark] .colab-df-quickchart {\n",
              "      --bg-color: #3B4455;\n",
              "      --fill-color: #D2E3FC;\n",
              "      --hover-bg-color: #434B5C;\n",
              "      --hover-fill-color: #FFFFFF;\n",
              "      --disabled-bg-color: #3B4455;\n",
              "      --disabled-fill-color: #666;\n",
              "  }\n",
              "\n",
              "  .colab-df-quickchart {\n",
              "    background-color: var(--bg-color);\n",
              "    border: none;\n",
              "    border-radius: 50%;\n",
              "    cursor: pointer;\n",
              "    display: none;\n",
              "    fill: var(--fill-color);\n",
              "    height: 32px;\n",
              "    padding: 0;\n",
              "    width: 32px;\n",
              "  }\n",
              "\n",
              "  .colab-df-quickchart:hover {\n",
              "    background-color: var(--hover-bg-color);\n",
              "    box-shadow: 0 1px 2px rgba(60, 64, 67, 0.3), 0 1px 3px 1px rgba(60, 64, 67, 0.15);\n",
              "    fill: var(--button-hover-fill-color);\n",
              "  }\n",
              "\n",
              "  .colab-df-quickchart-complete:disabled,\n",
              "  .colab-df-quickchart-complete:disabled:hover {\n",
              "    background-color: var(--disabled-bg-color);\n",
              "    fill: var(--disabled-fill-color);\n",
              "    box-shadow: none;\n",
              "  }\n",
              "\n",
              "  .colab-df-spinner {\n",
              "    border: 2px solid var(--fill-color);\n",
              "    border-color: transparent;\n",
              "    border-bottom-color: var(--fill-color);\n",
              "    animation:\n",
              "      spin 1s steps(1) infinite;\n",
              "  }\n",
              "\n",
              "  @keyframes spin {\n",
              "    0% {\n",
              "      border-color: transparent;\n",
              "      border-bottom-color: var(--fill-color);\n",
              "      border-left-color: var(--fill-color);\n",
              "    }\n",
              "    20% {\n",
              "      border-color: transparent;\n",
              "      border-left-color: var(--fill-color);\n",
              "      border-top-color: var(--fill-color);\n",
              "    }\n",
              "    30% {\n",
              "      border-color: transparent;\n",
              "      border-left-color: var(--fill-color);\n",
              "      border-top-color: var(--fill-color);\n",
              "      border-right-color: var(--fill-color);\n",
              "    }\n",
              "    40% {\n",
              "      border-color: transparent;\n",
              "      border-right-color: var(--fill-color);\n",
              "      border-top-color: var(--fill-color);\n",
              "    }\n",
              "    60% {\n",
              "      border-color: transparent;\n",
              "      border-right-color: var(--fill-color);\n",
              "    }\n",
              "    80% {\n",
              "      border-color: transparent;\n",
              "      border-right-color: var(--fill-color);\n",
              "      border-bottom-color: var(--fill-color);\n",
              "    }\n",
              "    90% {\n",
              "      border-color: transparent;\n",
              "      border-bottom-color: var(--fill-color);\n",
              "    }\n",
              "  }\n",
              "</style>\n",
              "\n",
              "  <script>\n",
              "    async function quickchart(key) {\n",
              "      const quickchartButtonEl =\n",
              "        document.querySelector('#' + key + ' button');\n",
              "      quickchartButtonEl.disabled = true;  // To prevent multiple clicks.\n",
              "      quickchartButtonEl.classList.add('colab-df-spinner');\n",
              "      try {\n",
              "        const charts = await google.colab.kernel.invokeFunction(\n",
              "            'suggestCharts', [key], {});\n",
              "      } catch (error) {\n",
              "        console.error('Error during call to suggestCharts:', error);\n",
              "      }\n",
              "      quickchartButtonEl.classList.remove('colab-df-spinner');\n",
              "      quickchartButtonEl.classList.add('colab-df-quickchart-complete');\n",
              "    }\n",
              "    (() => {\n",
              "      let quickchartButtonEl =\n",
              "        document.querySelector('#df-7c0df8be-7a4e-4b08-84d1-25585377dc2b button');\n",
              "      quickchartButtonEl.style.display =\n",
              "        google.colab.kernel.accessAllowed ? 'block' : 'none';\n",
              "    })();\n",
              "  </script>\n",
              "</div>\n",
              "\n",
              "    </div>\n",
              "  </div>\n"
            ],
            "application/vnd.google.colaboratory.intrinsic+json": {
              "type": "dataframe",
              "summary": "{\n  \"name\": \"df\",\n  \"rows\": 10,\n  \"fields\": [\n    {\n      \"column\": \"comment_id\",\n      \"properties\": {\n        \"dtype\": \"string\",\n        \"num_unique_values\": 10,\n        \"samples\": [\n          \"kf5wt91\",\n          \"kf5t68o\",\n          \"kf683kn\"\n        ],\n        \"semantic_type\": \"\",\n        \"description\": \"\"\n      }\n    },\n    {\n      \"column\": \"comment_body\",\n      \"properties\": {\n        \"dtype\": \"string\",\n        \"num_unique_values\": 10,\n        \"samples\": [\n          \"Agreed. So much of this stuff is 'what works for you'. Meditation doesn't work for me, I just find it a waste of time... but, writing each day in a log book does bring me mental clarity, so I do that. If typing works for others, great. If playing with a fidget toy instead of journaling works for them, they should do that.\",\n          \"Good discussion point. Don't agree with all but still some good items. At it wasn't some jerk going, \\\"You don't know shite, ya bastard idiot!\\\" Which was what I was expecting, LOL. Edit: So a late Merry Christmas and a Happy New Year!\",\n          \"\\\"Avoid caffeine\\\" NO.\"\n        ],\n        \"semantic_type\": \"\",\n        \"description\": \"\"\n      }\n    }\n  ]\n}"
            }
          },
          "metadata": {},
          "execution_count": 8
        }
      ]
    },
    {
      "cell_type": "code",
      "source": [
        "train_df = df.iloc[:2000, :]\n",
        "test_df = df.iloc[train_df.shape[0]: , :]"
      ],
      "metadata": {
        "id": "wWcQfVg7piNr"
      },
      "execution_count": null,
      "outputs": []
    },
    {
      "cell_type": "code",
      "source": [
        "train_df.shape, test_df.shape, len(train_df + test_df)"
      ],
      "metadata": {
        "colab": {
          "base_uri": "https://localhost:8080/"
        },
        "id": "2HEzCeMfpjs-",
        "outputId": "f32e07b1-be84-41f4-cb3d-6aee1612acd3"
      },
      "execution_count": null,
      "outputs": [
        {
          "output_type": "execute_result",
          "data": {
            "text/plain": [
              "((2000, 2), (995, 2), 2995)"
            ]
          },
          "metadata": {},
          "execution_count": 10
        }
      ]
    },
    {
      "cell_type": "markdown",
      "source": [
        "**First I've defined sentiments for each thread using SentimentVader**"
      ],
      "metadata": {
        "id": "PGMghKRxp4oD"
      }
    },
    {
      "cell_type": "code",
      "source": [
        "def preprocess_text(text):\n",
        "    words = word_tokenize(text)\n",
        "    stop_words = set(stopwords.words('english'))\n",
        "    filtered_words = [word for word in words if word not in stop_words]\n",
        "    text = ' '.join(filtered_words)\n",
        "    return text\n",
        "\n",
        "train_df['cleaned_comment_text'] = train_df['comment_body'].apply(preprocess_text)\n",
        "test_df['cleaned_comment_text'] = test_df['comment_body'].apply(preprocess_text)"
      ],
      "metadata": {
        "id": "qeDjQLBDpjwA"
      },
      "execution_count": null,
      "outputs": []
    },
    {
      "cell_type": "code",
      "source": [
        "from nltk.sentiment.vader import SentimentIntensityAnalyzer\n",
        "\n",
        "nltk.download('vader_lexicon')\n",
        "\n",
        "vader_analyzer = SentimentIntensityAnalyzer()\n",
        "\n",
        "def sentiment_analyzer(text):\n",
        "    scores = vader_analyzer.polarity_scores(text)\n",
        "    compound_score = scores['compound']\n",
        "    return 'positive' if compound_score >= 0 else 'negative'"
      ],
      "metadata": {
        "colab": {
          "base_uri": "https://localhost:8080/"
        },
        "id": "QJIy8oTUprxL",
        "outputId": "117d4546-da37-4982-c528-a5543b4609f2"
      },
      "execution_count": null,
      "outputs": [
        {
          "output_type": "stream",
          "name": "stderr",
          "text": [
            "[nltk_data] Downloading package vader_lexicon to /root/nltk_data...\n"
          ]
        }
      ]
    },
    {
      "cell_type": "code",
      "source": [
        "train_df['sentiment'] = train_df['cleaned_comment_text'].apply(sentiment_analyzer)\n",
        "test_df['sentiment'] = test_df['cleaned_comment_text'].apply(sentiment_analyzer)"
      ],
      "metadata": {
        "id": "XDbt7UYTpr4Q"
      },
      "execution_count": null,
      "outputs": []
    },
    {
      "cell_type": "code",
      "source": [
        "import seaborn as sns\n",
        "import matplotlib.pyplot as plt\n",
        "sns.set_palette('Set2')\n",
        "sns.countplot(train_df['sentiment'])\n",
        "plt.show()"
      ],
      "metadata": {
        "colab": {
          "base_uri": "https://localhost:8080/",
          "height": 449
        },
        "id": "vpKHt76QpEaJ",
        "outputId": "3445b0fd-58aa-47ec-be9e-5c67fbf7522d"
      },
      "execution_count": null,
      "outputs": [
        {
          "output_type": "display_data",
          "data": {
            "text/plain": [
              "<Figure size 640x480 with 1 Axes>"
            ],
            "image/png": "[encoded data removed]"
          },
          "metadata": {}
        }
      ]
    },
    {
      "cell_type": "markdown",
      "source": [
        "**To address class imbalance -> Class Weight Method -> Incomplete**"
      ],
      "metadata": {
        "id": "cJ5XD6-DquM0"
      }
    },
    {
      "cell_type": "code",
      "source": [],
      "metadata": {
        "id": "pEViT8kXeCjA"
      },
      "execution_count": null,
      "outputs": []
    },
    {
      "cell_type": "code",
      "source": [
        "train_df['label'] = train_df['sentiment'].map({'positive': 1, 'negative': 0})\n",
        "test_df['label'] = test_df['sentiment'].map({'positive': 1, 'negative': 0})\n",
        "\n",
        "\n",
        "X_train, X_val, y_train, y_val = train_test_split(\n",
        "    train_df['comment_body'], train_df['label'], test_size = 0.1, random_state = 43, stratify = train_df['label']\n",
        ")"
      ],
      "metadata": {
        "id": "J9yJmvhLpEcv"
      },
      "execution_count": null,
      "outputs": []
    },
    {
      "cell_type": "markdown",
      "source": [
        "**Bert Model**"
      ],
      "metadata": {
        "id": "iZ6Z1P6ozQeH"
      }
    },
    {
      "cell_type": "code",
      "source": [
        "# Bert Layers\n",
        "text_input = tf.keras.layers.Input(shape=(), dtype=tf.string, name='text')\n",
        "preprocessed_text = preprocessor(text_input)\n",
        "encoded_text = encoder(preprocessed_text)['pooled_output']\n",
        "\n",
        "# NN Layers\n",
        "# Regularization\n",
        "l = tf.keras.layers.Dropout(0.1, name = 'DropOut')(encoded_text)\n",
        "# Fully Connected\n",
        "l = tf.keras.layers.Dense(1, activation = 'sigmoid' ,name = 'Dense')(l)\n",
        "\n",
        "model = tf.keras.Model(inputs = [text_input], outputs = [l])"
      ],
      "metadata": {
        "id": "AKXF3bWmyE6K"
      },
      "execution_count": null,
      "outputs": []
    },
    {
      "cell_type": "code",
      "source": [
        "model.summary()"
      ],
      "metadata": {
        "colab": {
          "base_uri": "https://localhost:8080/"
        },
        "id": "ybpfO7Q51dok",
        "outputId": "e79c5089-c591-456d-c0ab-6921fc6a2ec1"
      },
      "execution_count": null,
      "outputs": [
        {
          "output_type": "stream",
          "name": "stdout",
          "text": [
            "Model: \"model\"\n",
            "__________________________________________________________________________________________________\n",
            " Layer (type)                Output Shape                 Param #   Connected to                  \n",
            "==================================================================================================\n",
            " text (InputLayer)           [(None,)]                    0         []                            \n",
            "                                                                                                  \n",
            " preprocessing (KerasLayer)  {'input_mask': (None, 128)   0         ['text[0][0]']                \n",
            "                             , 'input_word_ids': (None,                                           \n",
            "                              128),                                                               \n",
            "                              'input_type_ids': (None,                                            \n",
            "                             128)}                                                                \n",
            "                                                                                                  \n",
            " BERT_encoder (KerasLayer)   {'encoder_outputs': [(None   1094822   ['preprocessing[0][0]',       \n",
            "                             , 128, 768),                 41         'preprocessing[0][1]',       \n",
            "                              (None, 128, 768),                      'preprocessing[0][2]']       \n",
            "                              (None, 128, 768),                                                   \n",
            "                              (None, 128, 768),                                                   \n",
            "                              (None, 128, 768),                                                   \n",
            "                              (None, 128, 768),                                                   \n",
            "                              (None, 128, 768),                                                   \n",
            "                              (None, 128, 768),                                                   \n",
            "                              (None, 128, 768),                                                   \n",
            "                              (None, 128, 768),                                                   \n",
            "                              (None, 128, 768),                                                   \n",
            "                              (None, 128, 768)],                                                  \n",
            "                              'pooled_output': (None, 7                                           \n",
            "                             68),                                                                 \n",
            "                              'default': (None, 768),                                             \n",
            "                              'sequence_output': (None,                                           \n",
            "                              128, 768)}                                                          \n",
            "                                                                                                  \n",
            " DropOut (Dropout)           (None, 768)                  0         ['BERT_encoder[0][13]']       \n",
            "                                                                                                  \n",
            " Dense (Dense)               (None, 1)                    769       ['DropOut[0][0]']             \n",
            "                                                                                                  \n",
            "==================================================================================================\n",
            "Total params: 109483010 (417.64 MB)\n",
            "Trainable params: 769 (3.00 KB)\n",
            "Non-trainable params: 109482241 (417.64 MB)\n",
            "__________________________________________________________________________________________________\n"
          ]
        }
      ]
    },
    {
      "cell_type": "code",
      "source": [
        "METRICS = [\n",
        "    tf.keras.metrics.BinaryAccuracy(name='accuracy'),\n",
        "    tf.keras.metrics.Precision(name='precision'),\n",
        "    tf.keras.metrics.Recall(name='recall')\n",
        "]\n",
        "\n",
        "model.compile(\n",
        "    optimizer = 'adam',\n",
        "    loss = 'binary_crossentropy',\n",
        "    metrics = METRICS\n",
        ")"
      ],
      "metadata": {
        "id": "MphWPJ_S6_ew"
      },
      "execution_count": null,
      "outputs": []
    },
    {
      "cell_type": "code",
      "source": [
        "model.fit(X_train, y_train, epochs=10)"
      ],
      "metadata": {
        "colab": {
          "base_uri": "https://localhost:8080/"
        },
        "id": "aQzv60zZ70fC",
        "outputId": "218d4578-82a3-4e30-f269-b76648edec21"
      },
      "execution_count": null,
      "outputs": [
        {
          "output_type": "stream",
          "name": "stdout",
          "text": [
            "Epoch 1/10\n",
            "57/57 [==============================] - 28s 301ms/step - loss: 0.6356 - accuracy: 0.6694 - precision: 0.6832 - recall: 0.9677\n",
            "Epoch 2/10\n",
            "57/57 [==============================] - 19s 336ms/step - loss: 0.6242 - accuracy: 0.6828 - precision: 0.6888 - recall: 0.9822\n",
            "Epoch 3/10\n",
            "57/57 [==============================] - 18s 315ms/step - loss: 0.6101 - accuracy: 0.6856 - precision: 0.6916 - recall: 0.9790\n",
            "Epoch 4/10\n",
            "57/57 [==============================] - 17s 305ms/step - loss: 0.5821 - accuracy: 0.6989 - precision: 0.6982 - recall: 0.9895\n",
            "Epoch 5/10\n",
            "57/57 [==============================] - 17s 305ms/step - loss: 0.5747 - accuracy: 0.7028 - precision: 0.7008 - recall: 0.9903\n",
            "Epoch 6/10\n",
            "57/57 [==============================] - 18s 315ms/step - loss: 0.5797 - accuracy: 0.7111 - precision: 0.7187 - recall: 0.9523\n",
            "Epoch 7/10\n",
            "57/57 [==============================] - 18s 311ms/step - loss: 0.5630 - accuracy: 0.7194 - precision: 0.7248 - recall: 0.9539\n",
            "Epoch 8/10\n",
            "57/57 [==============================] - 18s 319ms/step - loss: 0.5483 - accuracy: 0.7233 - precision: 0.7180 - recall: 0.9838\n",
            "Epoch 9/10\n",
            "57/57 [==============================] - 19s 327ms/step - loss: 0.5449 - accuracy: 0.7261 - precision: 0.7236 - recall: 0.9733\n",
            "Epoch 10/10\n",
            "57/57 [==============================] - 18s 312ms/step - loss: 0.5297 - accuracy: 0.7444 - precision: 0.7385 - recall: 0.9725\n"
          ]
        },
        {
          "output_type": "execute_result",
          "data": {
            "text/plain": [
              "<keras.src.callbacks.History at 0x7e0b20eeca00>"
            ]
          },
          "metadata": {},
          "execution_count": 19
        }
      ]
    },
    {
      "cell_type": "code",
      "source": [
        "model.evaluate(X_val, y_val)"
      ],
      "metadata": {
        "colab": {
          "base_uri": "https://localhost:8080/"
        },
        "id": "iEYFPHwB76Vz",
        "outputId": "e61163de-dcc1-4903-8e97-de347815c503"
      },
      "execution_count": null,
      "outputs": [
        {
          "output_type": "stream",
          "name": "stdout",
          "text": [
            "7/7 [==============================] - 3s 266ms/step - loss: 0.5389 - accuracy: 0.6900 - precision: 0.6884 - recall: 1.0000\n"
          ]
        },
        {
          "output_type": "execute_result",
          "data": {
            "text/plain": [
              "[0.5389381051063538, 0.6899999976158142, 0.6884422302246094, 1.0]"
            ]
          },
          "metadata": {},
          "execution_count": 20
        }
      ]
    },
    {
      "cell_type": "code",
      "source": [
        "y_pred = model.predict(X_val)\n",
        "y_pred = y_pred.flatten()\n",
        "y_pred = np.where(y_pred > 0.5, 1, 0)\n",
        "y_pred"
      ],
      "metadata": {
        "colab": {
          "base_uri": "https://localhost:8080/"
        },
        "id": "JZdOXz0f_tIf",
        "outputId": "3287aec5-6765-4e95-ff72-f068a49a8ebd"
      },
      "execution_count": null,
      "outputs": [
        {
          "output_type": "stream",
          "name": "stdout",
          "text": [
            "7/7 [==============================] - 3s 290ms/step\n"
          ]
        },
        {
          "output_type": "execute_result",
          "data": {
            "text/plain": [
              "array([1, 1, 1, 1, 1, 1, 1, 1, 1, 1, 1, 1, 1, 1, 1, 1, 1, 0, 1, 1, 1, 1,\n",
              "       1, 1, 1, 1, 1, 1, 1, 1, 1, 1, 1, 1, 1, 1, 1, 1, 1, 1, 1, 1, 1, 1,\n",
              "       1, 1, 1, 1, 1, 1, 1, 1, 1, 1, 1, 1, 1, 1, 1, 1, 1, 1, 1, 1, 1, 1,\n",
              "       1, 1, 1, 1, 1, 1, 1, 1, 1, 1, 1, 1, 1, 1, 1, 1, 1, 1, 1, 1, 1, 1,\n",
              "       1, 1, 1, 1, 1, 1, 1, 1, 1, 1, 1, 1, 1, 1, 1, 1, 1, 1, 1, 1, 1, 1,\n",
              "       1, 1, 1, 1, 1, 1, 1, 1, 1, 1, 1, 1, 1, 1, 1, 1, 1, 1, 1, 1, 1, 1,\n",
              "       1, 1, 1, 1, 1, 1, 1, 1, 1, 1, 1, 1, 1, 1, 1, 1, 1, 1, 1, 1, 1, 1,\n",
              "       1, 1, 1, 1, 1, 1, 1, 1, 1, 1, 1, 1, 1, 1, 1, 1, 1, 1, 1, 1, 1, 1,\n",
              "       1, 1, 1, 1, 1, 1, 1, 1, 1, 1, 1, 1, 1, 1, 1, 1, 1, 1, 1, 1, 1, 1,\n",
              "       1, 1])"
            ]
          },
          "metadata": {},
          "execution_count": 21
        }
      ]
    },
    {
      "cell_type": "code",
      "source": [
        "from sklearn.metrics import confusion_matrix, classification_report\n",
        "\n",
        "cm = confusion_matrix(y_val, y_pred)\n",
        "\n",
        "sns.heatmap(cm, annot=True, fmt='d')\n",
        "plt.xlabel('Predicted')\n",
        "plt.ylabel('Truth')"
      ],
      "metadata": {
        "colab": {
          "base_uri": "https://localhost:8080/",
          "height": 466
        },
        "id": "5twXLRVS_tK0",
        "outputId": "003e871c-bb17-418f-f68c-4e3b30e94c14"
      },
      "execution_count": null,
      "outputs": [
        {
          "output_type": "execute_result",
          "data": {
            "text/plain": [
              "Text(50.722222222222214, 0.5, 'Truth')"
            ]
          },
          "metadata": {},
          "execution_count": 22
        },
        {
          "output_type": "display_data",
          "data": {
            "text/plain": [
              "<Figure size 640x480 with 2 Axes>"
            ],
            "image/png": "[encoded data removed]"
          },
          "metadata": {}
        }
      ]
    },
    {
      "cell_type": "code",
      "source": [
        "print(classification_report(y_val, y_pred))"
      ],
      "metadata": {
        "colab": {
          "base_uri": "https://localhost:8080/"
        },
        "id": "Qo-oYh0g_tOP",
        "outputId": "9f25cb44-2fbd-485b-8047-a4c06bc389af"
      },
      "execution_count": null,
      "outputs": [
        {
          "output_type": "stream",
          "name": "stdout",
          "text": [
            "              precision    recall  f1-score   support\n",
            "\n",
            "           0       1.00      0.02      0.03        63\n",
            "           1       0.69      1.00      0.82       137\n",
            "\n",
            "    accuracy                           0.69       200\n",
            "   macro avg       0.84      0.51      0.42       200\n",
            "weighted avg       0.79      0.69      0.57       200\n",
            "\n"
          ]
        }
      ]
    },
    {
      "cell_type": "code",
      "source": [
        "y_test_pred = model.predict(test_df['comment_body'])\n",
        "y_test_pred = np.where(y_test_pred > 0.5 , \"Positive\", \"Negative\").flatten()\n",
        "y_test_pred"
      ],
      "metadata": {
        "colab": {
          "base_uri": "https://localhost:8080/"
        },
        "id": "rmJwbPUyBMKw",
        "outputId": "828da0ce-caf6-462d-dcc7-484d48a90ff9"
      },
      "execution_count": null,
      "outputs": [
        {
          "output_type": "stream",
          "name": "stdout",
          "text": [
            "32/32 [==============================] - 10s 312ms/step\n"
          ]
        },
        {
          "output_type": "execute_result",
          "data": {
            "text/plain": [
              "array(['Positive', 'Positive', 'Positive', 'Positive', 'Positive',\n",
              "       'Positive', 'Positive', 'Positive', 'Positive', 'Positive',\n",
              "       'Positive', 'Positive', 'Positive', 'Positive', 'Positive',\n",
              "       'Positive', 'Negative', 'Positive', 'Positive', 'Positive',\n",
              "       'Positive', 'Positive', 'Positive', 'Positive', 'Positive',\n",
              "       'Positive', 'Positive', 'Positive', 'Positive', 'Positive',\n",
              "       'Positive', 'Positive', 'Positive', 'Positive', 'Positive',\n",
              "       'Positive', 'Positive', 'Positive', 'Positive', 'Positive',\n",
              "       'Positive', 'Positive', 'Positive', 'Positive', 'Positive',\n",
              "       'Positive', 'Positive', 'Positive', 'Positive', 'Positive',\n",
              "       'Positive', 'Positive', 'Positive', 'Positive', 'Positive',\n",
              "       'Positive', 'Positive', 'Positive', 'Positive', 'Positive',\n",
              "       'Positive', 'Positive', 'Positive', 'Positive', 'Positive',\n",
              "       'Positive', 'Positive', 'Positive', 'Negative', 'Positive',\n",
              "       'Positive', 'Positive', 'Positive', 'Positive', 'Positive',\n",
              "       'Positive', 'Positive', 'Positive', 'Positive', 'Positive',\n",
              "       'Positive', 'Positive', 'Positive', 'Negative', 'Positive',\n",
              "       'Positive', 'Positive', 'Positive', 'Positive', 'Positive',\n",
              "       'Positive', 'Negative', 'Positive', 'Positive', 'Positive',\n",
              "       'Positive', 'Positive', 'Positive', 'Positive', 'Positive',\n",
              "       'Positive', 'Positive', 'Positive', 'Positive', 'Positive',\n",
              "       'Positive', 'Positive', 'Positive', 'Positive', 'Positive',\n",
              "       'Positive', 'Positive', 'Positive', 'Positive', 'Positive',\n",
              "       'Positive', 'Positive', 'Positive', 'Positive', 'Positive',\n",
              "       'Positive', 'Positive', 'Positive', 'Positive', 'Positive',\n",
              "       'Positive', 'Positive', 'Positive', 'Positive', 'Positive',\n",
              "       'Positive', 'Positive', 'Positive', 'Positive', 'Positive',\n",
              "       'Positive', 'Positive', 'Positive', 'Positive', 'Positive',\n",
              "       'Positive', 'Positive', 'Positive', 'Positive', 'Positive',\n",
              "       'Positive', 'Positive', 'Positive', 'Positive', 'Positive',\n",
              "       'Positive', 'Positive', 'Positive', 'Positive', 'Positive',\n",
              "       'Positive', 'Positive', 'Positive', 'Positive', 'Positive',\n",
              "       'Positive', 'Positive', 'Positive', 'Positive', 'Positive',\n",
              "       'Positive', 'Positive', 'Positive', 'Positive', 'Positive',\n",
              "       'Positive', 'Positive', 'Positive', 'Positive', 'Positive',\n",
              "       'Positive', 'Positive', 'Positive', 'Positive', 'Positive',\n",
              "       'Positive', 'Positive', 'Positive', 'Positive', 'Positive',\n",
              "       'Positive', 'Positive', 'Positive', 'Positive', 'Positive',\n",
              "       'Positive', 'Negative', 'Positive', 'Positive', 'Positive',\n",
              "       'Positive', 'Positive', 'Positive', 'Positive', 'Positive',\n",
              "       'Positive', 'Positive', 'Positive', 'Positive', 'Positive',\n",
              "       'Positive', 'Positive', 'Positive', 'Positive', 'Positive',\n",
              "       'Positive', 'Positive', 'Positive', 'Positive', 'Positive',\n",
              "       'Positive', 'Positive', 'Positive', 'Positive', 'Positive',\n",
              "       'Positive', 'Positive', 'Positive', 'Positive', 'Positive',\n",
              "       'Positive', 'Positive', 'Positive', 'Positive', 'Positive',\n",
              "       'Positive', 'Positive', 'Positive', 'Positive', 'Positive',\n",
              "       'Positive', 'Positive', 'Positive', 'Positive', 'Positive',\n",
              "       'Positive', 'Positive', 'Positive', 'Negative', 'Positive',\n",
              "       'Positive', 'Positive', 'Positive', 'Positive', 'Positive',\n",
              "       'Positive', 'Positive', 'Positive', 'Positive', 'Positive',\n",
              "       'Positive', 'Positive', 'Positive', 'Negative', 'Positive',\n",
              "       'Positive', 'Positive', 'Positive', 'Positive', 'Positive',\n",
              "       'Positive', 'Negative', 'Positive', 'Positive', 'Positive',\n",
              "       'Positive', 'Positive', 'Positive', 'Positive', 'Positive',\n",
              "       'Positive', 'Positive', 'Positive', 'Positive', 'Positive',\n",
              "       'Positive', 'Positive', 'Positive', 'Positive', 'Positive',\n",
              "       'Positive', 'Positive', 'Positive', 'Positive', 'Positive',\n",
              "       'Positive', 'Positive', 'Positive', 'Positive', 'Positive',\n",
              "       'Positive', 'Positive', 'Positive', 'Positive', 'Positive',\n",
              "       'Positive', 'Positive', 'Positive', 'Positive', 'Positive',\n",
              "       'Positive', 'Positive', 'Positive', 'Positive', 'Positive',\n",
              "       'Positive', 'Positive', 'Positive', 'Positive', 'Positive',\n",
              "       'Positive', 'Positive', 'Positive', 'Positive', 'Positive',\n",
              "       'Positive', 'Positive', 'Positive', 'Positive', 'Positive',\n",
              "       'Positive', 'Positive', 'Positive', 'Positive', 'Positive',\n",
              "       'Positive', 'Positive', 'Positive', 'Positive', 'Positive',\n",
              "       'Positive', 'Positive', 'Positive', 'Positive', 'Positive',\n",
              "       'Positive', 'Positive', 'Positive', 'Positive', 'Positive',\n",
              "       'Positive', 'Positive', 'Positive', 'Positive', 'Positive',\n",
              "       'Positive', 'Positive', 'Positive', 'Positive', 'Positive',\n",
              "       'Positive', 'Positive', 'Positive', 'Positive', 'Positive',\n",
              "       'Positive', 'Positive', 'Positive', 'Positive', 'Positive',\n",
              "       'Positive', 'Negative', 'Positive', 'Positive', 'Positive',\n",
              "       'Positive', 'Positive', 'Positive', 'Positive', 'Positive',\n",
              "       'Positive', 'Positive', 'Positive', 'Positive', 'Positive',\n",
              "       'Positive', 'Positive', 'Positive', 'Positive', 'Positive',\n",
              "       'Positive', 'Positive', 'Positive', 'Positive', 'Positive',\n",
              "       'Positive', 'Positive', 'Positive', 'Positive', 'Positive',\n",
              "       'Positive', 'Positive', 'Positive', 'Positive', 'Positive',\n",
              "       'Positive', 'Positive', 'Positive', 'Positive', 'Positive',\n",
              "       'Positive', 'Positive', 'Positive', 'Positive', 'Positive',\n",
              "       'Positive', 'Positive', 'Positive', 'Positive', 'Positive',\n",
              "       'Positive', 'Positive', 'Positive', 'Negative', 'Positive',\n",
              "       'Positive', 'Positive', 'Positive', 'Positive', 'Positive',\n",
              "       'Positive', 'Positive', 'Positive', 'Positive', 'Positive',\n",
              "       'Positive', 'Positive', 'Positive', 'Negative', 'Positive',\n",
              "       'Positive', 'Positive', 'Positive', 'Positive', 'Positive',\n",
              "       'Positive', 'Negative', 'Positive', 'Positive', 'Positive',\n",
              "       'Positive', 'Positive', 'Positive', 'Positive', 'Positive',\n",
              "       'Positive', 'Positive', 'Positive', 'Positive', 'Positive',\n",
              "       'Positive', 'Positive', 'Positive', 'Positive', 'Positive',\n",
              "       'Positive', 'Positive', 'Positive', 'Positive', 'Positive',\n",
              "       'Positive', 'Positive', 'Positive', 'Positive', 'Positive',\n",
              "       'Positive', 'Positive', 'Positive', 'Positive', 'Positive',\n",
              "       'Positive', 'Positive', 'Positive', 'Positive', 'Positive',\n",
              "       'Positive', 'Positive', 'Positive', 'Positive', 'Positive',\n",
              "       'Positive', 'Positive', 'Positive', 'Positive', 'Positive',\n",
              "       'Positive', 'Positive', 'Positive', 'Positive', 'Positive',\n",
              "       'Positive', 'Positive', 'Positive', 'Positive', 'Positive',\n",
              "       'Positive', 'Positive', 'Positive', 'Positive', 'Positive',\n",
              "       'Positive', 'Positive', 'Positive', 'Positive', 'Positive',\n",
              "       'Positive', 'Positive', 'Positive', 'Positive', 'Positive',\n",
              "       'Positive', 'Positive', 'Positive', 'Positive', 'Positive',\n",
              "       'Positive', 'Positive', 'Positive', 'Positive', 'Positive',\n",
              "       'Positive', 'Positive', 'Positive', 'Positive', 'Positive',\n",
              "       'Positive', 'Positive', 'Positive', 'Positive', 'Positive',\n",
              "       'Positive', 'Positive', 'Positive', 'Positive', 'Positive',\n",
              "       'Positive', 'Negative', 'Positive', 'Positive', 'Positive',\n",
              "       'Positive', 'Positive', 'Positive', 'Positive', 'Positive',\n",
              "       'Positive', 'Positive', 'Positive', 'Positive', 'Positive',\n",
              "       'Positive', 'Positive', 'Positive', 'Positive', 'Positive',\n",
              "       'Positive', 'Positive', 'Positive', 'Positive', 'Positive',\n",
              "       'Positive', 'Positive', 'Positive', 'Positive', 'Positive',\n",
              "       'Positive', 'Positive', 'Positive', 'Positive', 'Positive',\n",
              "       'Positive', 'Positive', 'Positive', 'Positive', 'Positive',\n",
              "       'Positive', 'Positive', 'Positive', 'Positive', 'Positive',\n",
              "       'Positive', 'Positive', 'Positive', 'Positive', 'Positive',\n",
              "       'Positive', 'Positive', 'Positive', 'Negative', 'Positive',\n",
              "       'Positive', 'Positive', 'Positive', 'Positive', 'Positive',\n",
              "       'Positive', 'Positive', 'Positive', 'Positive', 'Positive',\n",
              "       'Positive', 'Positive', 'Positive', 'Negative', 'Positive',\n",
              "       'Positive', 'Positive', 'Positive', 'Positive', 'Positive',\n",
              "       'Positive', 'Negative', 'Positive', 'Positive', 'Positive',\n",
              "       'Positive', 'Positive', 'Positive', 'Positive', 'Positive',\n",
              "       'Positive', 'Positive', 'Positive', 'Positive', 'Positive',\n",
              "       'Positive', 'Positive', 'Positive', 'Positive', 'Positive',\n",
              "       'Positive', 'Positive', 'Positive', 'Positive', 'Positive',\n",
              "       'Positive', 'Positive', 'Positive', 'Positive', 'Positive',\n",
              "       'Positive', 'Positive', 'Positive', 'Positive', 'Positive',\n",
              "       'Positive', 'Positive', 'Positive', 'Positive', 'Positive',\n",
              "       'Positive', 'Positive', 'Positive', 'Positive', 'Positive',\n",
              "       'Positive', 'Positive', 'Positive', 'Positive', 'Positive',\n",
              "       'Positive', 'Positive', 'Positive', 'Positive', 'Positive',\n",
              "       'Positive', 'Positive', 'Positive', 'Positive', 'Positive',\n",
              "       'Positive', 'Positive', 'Positive', 'Positive', 'Positive',\n",
              "       'Positive', 'Positive', 'Positive', 'Positive', 'Positive',\n",
              "       'Positive', 'Positive', 'Positive', 'Positive', 'Positive',\n",
              "       'Positive', 'Positive', 'Positive', 'Positive', 'Positive',\n",
              "       'Positive', 'Positive', 'Positive', 'Positive', 'Positive',\n",
              "       'Positive', 'Positive', 'Positive', 'Positive', 'Positive',\n",
              "       'Positive', 'Positive', 'Positive', 'Positive', 'Positive',\n",
              "       'Positive', 'Positive', 'Positive', 'Positive', 'Positive',\n",
              "       'Positive', 'Negative', 'Positive', 'Positive', 'Positive',\n",
              "       'Positive', 'Positive', 'Positive', 'Positive', 'Positive',\n",
              "       'Positive', 'Positive', 'Positive', 'Positive', 'Positive',\n",
              "       'Positive', 'Positive', 'Positive', 'Positive', 'Positive',\n",
              "       'Positive', 'Positive', 'Positive', 'Positive', 'Positive',\n",
              "       'Positive', 'Positive', 'Positive', 'Positive', 'Positive',\n",
              "       'Positive', 'Positive', 'Positive', 'Positive', 'Positive',\n",
              "       'Positive', 'Positive', 'Positive', 'Positive', 'Positive',\n",
              "       'Positive', 'Positive', 'Positive', 'Positive', 'Positive',\n",
              "       'Positive', 'Positive', 'Positive', 'Positive', 'Positive',\n",
              "       'Positive', 'Positive', 'Positive', 'Negative', 'Positive',\n",
              "       'Positive', 'Positive', 'Positive', 'Positive', 'Positive',\n",
              "       'Positive', 'Positive', 'Positive', 'Positive', 'Positive',\n",
              "       'Positive', 'Positive', 'Positive', 'Negative', 'Positive',\n",
              "       'Positive', 'Positive', 'Positive', 'Positive', 'Positive',\n",
              "       'Positive', 'Negative', 'Positive', 'Positive', 'Positive',\n",
              "       'Positive', 'Positive', 'Positive', 'Positive', 'Positive',\n",
              "       'Positive', 'Positive', 'Positive', 'Positive', 'Positive',\n",
              "       'Positive', 'Positive', 'Positive', 'Positive', 'Positive',\n",
              "       'Positive', 'Positive', 'Positive', 'Positive', 'Positive',\n",
              "       'Positive', 'Positive', 'Positive', 'Positive', 'Positive',\n",
              "       'Positive', 'Positive', 'Positive', 'Positive', 'Positive',\n",
              "       'Positive', 'Positive', 'Positive', 'Positive', 'Positive',\n",
              "       'Positive', 'Positive', 'Positive', 'Positive', 'Positive',\n",
              "       'Positive', 'Positive', 'Positive', 'Positive', 'Positive',\n",
              "       'Positive', 'Positive', 'Positive', 'Positive', 'Positive',\n",
              "       'Positive', 'Positive', 'Positive', 'Positive', 'Positive',\n",
              "       'Positive', 'Positive', 'Positive', 'Positive', 'Positive',\n",
              "       'Positive', 'Positive', 'Positive', 'Positive', 'Positive',\n",
              "       'Positive', 'Positive', 'Positive', 'Positive', 'Positive',\n",
              "       'Positive', 'Positive', 'Positive', 'Positive', 'Positive',\n",
              "       'Positive', 'Positive', 'Positive', 'Positive', 'Positive',\n",
              "       'Positive', 'Positive', 'Positive', 'Positive', 'Positive',\n",
              "       'Positive', 'Positive', 'Positive', 'Positive', 'Positive',\n",
              "       'Positive', 'Positive', 'Positive', 'Positive', 'Positive',\n",
              "       'Positive', 'Negative', 'Positive', 'Positive', 'Positive',\n",
              "       'Positive', 'Positive', 'Positive', 'Positive', 'Positive',\n",
              "       'Positive', 'Positive', 'Positive', 'Positive', 'Positive',\n",
              "       'Positive', 'Positive', 'Positive', 'Positive', 'Positive',\n",
              "       'Positive', 'Positive', 'Positive', 'Positive', 'Positive',\n",
              "       'Positive', 'Positive', 'Positive', 'Positive', 'Positive',\n",
              "       'Positive', 'Positive', 'Positive', 'Positive', 'Positive',\n",
              "       'Positive', 'Positive', 'Positive', 'Positive', 'Positive',\n",
              "       'Positive', 'Positive', 'Positive', 'Positive', 'Positive',\n",
              "       'Positive', 'Positive', 'Positive', 'Positive', 'Positive',\n",
              "       'Positive', 'Positive', 'Positive', 'Negative', 'Positive',\n",
              "       'Positive', 'Positive', 'Positive', 'Positive', 'Positive',\n",
              "       'Positive', 'Positive', 'Positive', 'Positive', 'Positive',\n",
              "       'Positive', 'Positive', 'Positive', 'Negative', 'Positive',\n",
              "       'Positive', 'Positive', 'Positive', 'Positive', 'Positive',\n",
              "       'Positive', 'Negative', 'Positive', 'Positive', 'Positive',\n",
              "       'Positive', 'Positive', 'Positive', 'Positive', 'Positive',\n",
              "       'Positive', 'Positive', 'Positive', 'Positive', 'Positive',\n",
              "       'Positive', 'Positive', 'Positive', 'Positive', 'Positive',\n",
              "       'Positive', 'Positive', 'Positive', 'Positive', 'Positive',\n",
              "       'Positive', 'Positive', 'Positive', 'Positive', 'Positive'],\n",
              "      dtype='<U8')"
            ]
          },
          "metadata": {},
          "execution_count": 24
        }
      ]
    },
    {
      "cell_type": "code",
      "source": [
        "sub_threads = [\n",
        "    \"I feel empty, nothing makes me happy\",\n",
        "    \"Anyone else just soo exhausted from life?\",\n",
        "    \"What's something that recently made you happy?\",\n",
        "    \"Share your best 'feel-good' story\"\n",
        "]\n",
        "\n",
        "model.predict(sub_threads)"
      ],
      "metadata": {
        "colab": {
          "base_uri": "https://localhost:8080/"
        },
        "id": "gilyG__IBXNf",
        "outputId": "044be04b-5915-4253-fae3-c35453d50ced"
      },
      "execution_count": null,
      "outputs": [
        {
          "output_type": "stream",
          "name": "stdout",
          "text": [
            "1/1 [==============================] - 1s 794ms/step\n"
          ]
        },
        {
          "output_type": "execute_result",
          "data": {
            "text/plain": [
              "array([[0.64418775],\n",
              "       [0.82626635],\n",
              "       [0.73924387],\n",
              "       [0.832798  ]], dtype=float32)"
            ]
          },
          "metadata": {},
          "execution_count": 25
        }
      ]
    },
    {
      "cell_type": "code",
      "source": [],
      "metadata": {
        "id": "s4GgkP8TCx76"
      },
      "execution_count": null,
      "outputs": []
    }
  ]
}