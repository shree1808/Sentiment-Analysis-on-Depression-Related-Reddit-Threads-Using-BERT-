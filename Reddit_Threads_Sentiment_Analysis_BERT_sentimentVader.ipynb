{
  "nbformat": 4,
  "nbformat_minor": 0,
  "metadata": {
    "colab": {
      "provenance": [],
      "gpuType": "T4"
    },
    "kernelspec": {
      "name": "python3",
      "display_name": "Python 3"
    },
    "language_info": {
      "name": "python"
    },
    "accelerator": "GPU"
  },
  "cells": [
    {
      "cell_type": "code",
      "source": [
        "# !pip uninstall tensorflow\n",
        "# !pip install tensorflow_hub\n",
        "# !pip install tensorflow_text"
      ],
      "metadata": {
        "id": "R-VTrhMMqcM1"
      },
      "execution_count": 1,
      "outputs": []
    },
    {
      "cell_type": "code",
      "source": [
        "# pip install tensorflow==2.15.*\n",
        "# !pip install -U \"tensorflow-text==2.15.*\"\n",
        "# !pip install -U \"tf-models-official==2.15.*\""
      ],
      "metadata": {
        "id": "zLLE9H584MHK"
      },
      "execution_count": 2,
      "outputs": []
    },
    {
      "cell_type": "code",
      "source": [
        "import tensorflow_hub as hub\n",
        "import tensorflow_text as text\n",
        "import tensorflow as tf\n",
        "\n",
        "import pandas as pd\n",
        "import nltk\n",
        "import numpy as np\n",
        "from sklearn.model_selection import train_test_split\n",
        "from nltk.tokenize import word_tokenize, sent_tokenize\n",
        "import string, re, nltk\n",
        "from nltk.corpus import stopwords\n",
        "nltk.download('punkt')\n",
        "nltk.download('stopwords')\n",
        "\n",
        "import warnings\n",
        "warnings.filterwarnings('ignore')"
      ],
      "metadata": {
        "id": "IlHlyB89jogr",
        "colab": {
          "base_uri": "https://localhost:8080/"
        },
        "outputId": "28f77335-2050-4ff6-d59b-7c8f87dc051c"
      },
      "execution_count": 1,
      "outputs": [
        {
          "output_type": "stream",
          "name": "stderr",
          "text": [
            "[nltk_data] Downloading package punkt to /root/nltk_data...\n",
            "[nltk_data]   Package punkt is already up-to-date!\n",
            "[nltk_data] Downloading package stopwords to /root/nltk_data...\n",
            "[nltk_data]   Package stopwords is already up-to-date!\n"
          ]
        }
      ]
    },
    {
      "cell_type": "code",
      "source": [
        "preprocessor = hub.KerasLayer(\"https://tfhub.dev/tensorflow/bert_en_uncased_preprocess/3\", name=\"preprocessing\")\n",
        "encoder = hub.KerasLayer(\"https://tfhub.dev/tensorflow/bert_en_uncased_L-12_H-768_A-12/4\", name=\"BERT_encoder\")"
      ],
      "metadata": {
        "id": "ovTVVV2vppn7"
      },
      "execution_count": 2,
      "outputs": []
    },
    {
      "cell_type": "markdown",
      "source": [
        "**Example Usage - BERT Processor and Encoder**"
      ],
      "metadata": {
        "id": "Y8aQsSDfoiJP"
      }
    },
    {
      "cell_type": "code",
      "source": [
        "text_test = ['nice movie indeed', 'I hate it sometimes though!!']\n",
        "preprocessed_text = preprocessor(text_test)\n",
        "print(preprocessed_text.keys())\n",
        "\n",
        "output = encoder(preprocessed_text)\n",
        "output.keys()"
      ],
      "metadata": {
        "colab": {
          "base_uri": "https://localhost:8080/"
        },
        "id": "7ABMGK8PtV3O",
        "outputId": "87f8bb27-6257-41c9-a26e-ac694fdece10"
      },
      "execution_count": 3,
      "outputs": [
        {
          "output_type": "stream",
          "name": "stdout",
          "text": [
            "dict_keys(['input_type_ids', 'input_mask', 'input_word_ids'])\n"
          ]
        },
        {
          "output_type": "execute_result",
          "data": {
            "text/plain": [
              "dict_keys(['sequence_output', 'encoder_outputs', 'default', 'pooled_output'])"
            ]
          },
          "metadata": {},
          "execution_count": 3
        }
      ]
    },
    {
      "cell_type": "code",
      "source": [
        "output['pooled_output']"
      ],
      "metadata": {
        "colab": {
          "base_uri": "https://localhost:8080/"
        },
        "id": "pmxFZJ9Ly3yP",
        "outputId": "bd322994-4b5c-4ae8-c7bd-24ad5ec2d8ca"
      },
      "execution_count": 4,
      "outputs": [
        {
          "output_type": "execute_result",
          "data": {
            "text/plain": [
              "<tf.Tensor: shape=(2, 768), dtype=float32, numpy=\n",
              "array([[-0.791774  , -0.21411912,  0.49769545, ...,  0.24465235,\n",
              "        -0.47334474,  0.8175869 ],\n",
              "       [-0.7811995 , -0.40898427, -0.48670244, ..., -0.21824645,\n",
              "        -0.62682813,  0.8872608 ]], dtype=float32)>"
            ]
          },
          "metadata": {},
          "execution_count": 4
        }
      ]
    },
    {
      "cell_type": "markdown",
      "source": [
        "**Reading the Saved CSV**"
      ],
      "metadata": {
        "id": "24u-zw_DqFCa"
      }
    },
    {
      "cell_type": "code",
      "source": [
        "df = pd.read_csv('/content/drive/MyDrive/mentalhealth_comments.csv')"
      ],
      "metadata": {
        "id": "zrWzGJlnpEUc"
      },
      "execution_count": 5,
      "outputs": []
    },
    {
      "cell_type": "code",
      "source": [
        "df = df[['comment_id', 'comment_body']]\n",
        "df.sample(10)"
      ],
      "metadata": {
        "colab": {
          "base_uri": "https://localhost:8080/",
          "height": 363
        },
        "id": "ODCdffrXpEXT",
        "outputId": "aafcbd3b-8ceb-4b86-ba9d-01c6decf58f7"
      },
      "execution_count": 6,
      "outputs": [
        {
          "output_type": "execute_result",
          "data": {
            "text/plain": [
              "     comment_id                                       comment_body\n",
              "505     kf6le75  I love a ribeye!\\n\\nThe rest of your comment h...\n",
              "2660    kf7l28c  Sadly most of the advice, while useful, is FAR...\n",
              "507     kf61etp  I bet most people deal with it just like you h...\n",
              "2317    kf68p0f  First two are good to begin with, third is too...\n",
              "119     kf8g54s  I wrote a journal bashing my ex. It was liberting\n",
              "2820    kf62wry  I feel you. Living a healthy lifestyle can fee...\n",
              "2180    kf6vdkr                               Butterfly Effect guy\n",
              "1821    kf6kjwy  Journals and diaries are great for when you ne...\n",
              "238     kf6jot3  Yeh good advise. It’s too steep. For me I’ll t...\n",
              "1255    kf6db85                  Really not that hard or difficult"
            ],
            "text/html": [
              "\n",
              "  <div id=\"df-8309b7b6-61b9-4bf3-8380-7e5098873fa0\" class=\"colab-df-container\">\n",
              "    <div>\n",
              "<style scoped>\n",
              "    .dataframe tbody tr th:only-of-type {\n",
              "        vertical-align: middle;\n",
              "    }\n",
              "\n",
              "    .dataframe tbody tr th {\n",
              "        vertical-align: top;\n",
              "    }\n",
              "\n",
              "    .dataframe thead th {\n",
              "        text-align: right;\n",
              "    }\n",
              "</style>\n",
              "<table border=\"1\" class=\"dataframe\">\n",
              "  <thead>\n",
              "    <tr style=\"text-align: right;\">\n",
              "      <th></th>\n",
              "      <th>comment_id</th>\n",
              "      <th>comment_body</th>\n",
              "    </tr>\n",
              "  </thead>\n",
              "  <tbody>\n",
              "    <tr>\n",
              "      <th>505</th>\n",
              "      <td>kf6le75</td>\n",
              "      <td>I love a ribeye!\\n\\nThe rest of your comment h...</td>\n",
              "    </tr>\n",
              "    <tr>\n",
              "      <th>2660</th>\n",
              "      <td>kf7l28c</td>\n",
              "      <td>Sadly most of the advice, while useful, is FAR...</td>\n",
              "    </tr>\n",
              "    <tr>\n",
              "      <th>507</th>\n",
              "      <td>kf61etp</td>\n",
              "      <td>I bet most people deal with it just like you h...</td>\n",
              "    </tr>\n",
              "    <tr>\n",
              "      <th>2317</th>\n",
              "      <td>kf68p0f</td>\n",
              "      <td>First two are good to begin with, third is too...</td>\n",
              "    </tr>\n",
              "    <tr>\n",
              "      <th>119</th>\n",
              "      <td>kf8g54s</td>\n",
              "      <td>I wrote a journal bashing my ex. It was liberting</td>\n",
              "    </tr>\n",
              "    <tr>\n",
              "      <th>2820</th>\n",
              "      <td>kf62wry</td>\n",
              "      <td>I feel you. Living a healthy lifestyle can fee...</td>\n",
              "    </tr>\n",
              "    <tr>\n",
              "      <th>2180</th>\n",
              "      <td>kf6vdkr</td>\n",
              "      <td>Butterfly Effect guy</td>\n",
              "    </tr>\n",
              "    <tr>\n",
              "      <th>1821</th>\n",
              "      <td>kf6kjwy</td>\n",
              "      <td>Journals and diaries are great for when you ne...</td>\n",
              "    </tr>\n",
              "    <tr>\n",
              "      <th>238</th>\n",
              "      <td>kf6jot3</td>\n",
              "      <td>Yeh good advise. It’s too steep. For me I’ll t...</td>\n",
              "    </tr>\n",
              "    <tr>\n",
              "      <th>1255</th>\n",
              "      <td>kf6db85</td>\n",
              "      <td>Really not that hard or difficult</td>\n",
              "    </tr>\n",
              "  </tbody>\n",
              "</table>\n",
              "</div>\n",
              "    <div class=\"colab-df-buttons\">\n",
              "\n",
              "  <div class=\"colab-df-container\">\n",
              "    <button class=\"colab-df-convert\" onclick=\"convertToInteractive('df-8309b7b6-61b9-4bf3-8380-7e5098873fa0')\"\n",
              "            title=\"Convert this dataframe to an interactive table.\"\n",
              "            style=\"display:none;\">\n",
              "\n",
              "  <svg xmlns=\"http://www.w3.org/2000/svg\" height=\"24px\" viewBox=\"0 -960 960 960\">\n",
              "    <path d=\"M120-120v-720h720v720H120Zm60-500h600v-160H180v160Zm220 220h160v-160H400v160Zm0 220h160v-160H400v160ZM180-400h160v-160H180v160Zm440 0h160v-160H620v160ZM180-180h160v-160H180v160Zm440 0h160v-160H620v160Z\"/>\n",
              "  </svg>\n",
              "    </button>\n",
              "\n",
              "  <style>\n",
              "    .colab-df-container {\n",
              "      display:flex;\n",
              "      gap: 12px;\n",
              "    }\n",
              "\n",
              "    .colab-df-convert {\n",
              "      background-color: #E8F0FE;\n",
              "      border: none;\n",
              "      border-radius: 50%;\n",
              "      cursor: pointer;\n",
              "      display: none;\n",
              "      fill: #1967D2;\n",
              "      height: 32px;\n",
              "      padding: 0 0 0 0;\n",
              "      width: 32px;\n",
              "    }\n",
              "\n",
              "    .colab-df-convert:hover {\n",
              "      background-color: #E2EBFA;\n",
              "      box-shadow: 0px 1px 2px rgba(60, 64, 67, 0.3), 0px 1px 3px 1px rgba(60, 64, 67, 0.15);\n",
              "      fill: #174EA6;\n",
              "    }\n",
              "\n",
              "    .colab-df-buttons div {\n",
              "      margin-bottom: 4px;\n",
              "    }\n",
              "\n",
              "    [theme=dark] .colab-df-convert {\n",
              "      background-color: #3B4455;\n",
              "      fill: #D2E3FC;\n",
              "    }\n",
              "\n",
              "    [theme=dark] .colab-df-convert:hover {\n",
              "      background-color: #434B5C;\n",
              "      box-shadow: 0px 1px 3px 1px rgba(0, 0, 0, 0.15);\n",
              "      filter: drop-shadow(0px 1px 2px rgba(0, 0, 0, 0.3));\n",
              "      fill: #FFFFFF;\n",
              "    }\n",
              "  </style>\n",
              "\n",
              "    <script>\n",
              "      const buttonEl =\n",
              "        document.querySelector('#df-8309b7b6-61b9-4bf3-8380-7e5098873fa0 button.colab-df-convert');\n",
              "      buttonEl.style.display =\n",
              "        google.colab.kernel.accessAllowed ? 'block' : 'none';\n",
              "\n",
              "      async function convertToInteractive(key) {\n",
              "        const element = document.querySelector('#df-8309b7b6-61b9-4bf3-8380-7e5098873fa0');\n",
              "        const dataTable =\n",
              "          await google.colab.kernel.invokeFunction('convertToInteractive',\n",
              "                                                    [key], {});\n",
              "        if (!dataTable) return;\n",
              "\n",
              "        const docLinkHtml = 'Like what you see? Visit the ' +\n",
              "          '<a target=\"_blank\" href=https://colab.research.google.com/notebooks/data_table.ipynb>data table notebook</a>'\n",
              "          + ' to learn more about interactive tables.';\n",
              "        element.innerHTML = '';\n",
              "        dataTable['output_type'] = 'display_data';\n",
              "        await google.colab.output.renderOutput(dataTable, element);\n",
              "        const docLink = document.createElement('div');\n",
              "        docLink.innerHTML = docLinkHtml;\n",
              "        element.appendChild(docLink);\n",
              "      }\n",
              "    </script>\n",
              "  </div>\n",
              "\n",
              "\n",
              "<div id=\"df-ce7d791b-6ba6-474f-bfbd-1a89544f2545\">\n",
              "  <button class=\"colab-df-quickchart\" onclick=\"quickchart('df-ce7d791b-6ba6-474f-bfbd-1a89544f2545')\"\n",
              "            title=\"Suggest charts\"\n",
              "            style=\"display:none;\">\n",
              "\n",
              "<svg xmlns=\"http://www.w3.org/2000/svg\" height=\"24px\"viewBox=\"0 0 24 24\"\n",
              "     width=\"24px\">\n",
              "    <g>\n",
              "        <path d=\"M19 3H5c-1.1 0-2 .9-2 2v14c0 1.1.9 2 2 2h14c1.1 0 2-.9 2-2V5c0-1.1-.9-2-2-2zM9 17H7v-7h2v7zm4 0h-2V7h2v10zm4 0h-2v-4h2v4z\"/>\n",
              "    </g>\n",
              "</svg>\n",
              "  </button>\n",
              "\n",
              "<style>\n",
              "  .colab-df-quickchart {\n",
              "      --bg-color: #E8F0FE;\n",
              "      --fill-color: #1967D2;\n",
              "      --hover-bg-color: #E2EBFA;\n",
              "      --hover-fill-color: #174EA6;\n",
              "      --disabled-fill-color: #AAA;\n",
              "      --disabled-bg-color: #DDD;\n",
              "  }\n",
              "\n",
              "  [theme=dark] .colab-df-quickchart {\n",
              "      --bg-color: #3B4455;\n",
              "      --fill-color: #D2E3FC;\n",
              "      --hover-bg-color: #434B5C;\n",
              "      --hover-fill-color: #FFFFFF;\n",
              "      --disabled-bg-color: #3B4455;\n",
              "      --disabled-fill-color: #666;\n",
              "  }\n",
              "\n",
              "  .colab-df-quickchart {\n",
              "    background-color: var(--bg-color);\n",
              "    border: none;\n",
              "    border-radius: 50%;\n",
              "    cursor: pointer;\n",
              "    display: none;\n",
              "    fill: var(--fill-color);\n",
              "    height: 32px;\n",
              "    padding: 0;\n",
              "    width: 32px;\n",
              "  }\n",
              "\n",
              "  .colab-df-quickchart:hover {\n",
              "    background-color: var(--hover-bg-color);\n",
              "    box-shadow: 0 1px 2px rgba(60, 64, 67, 0.3), 0 1px 3px 1px rgba(60, 64, 67, 0.15);\n",
              "    fill: var(--button-hover-fill-color);\n",
              "  }\n",
              "\n",
              "  .colab-df-quickchart-complete:disabled,\n",
              "  .colab-df-quickchart-complete:disabled:hover {\n",
              "    background-color: var(--disabled-bg-color);\n",
              "    fill: var(--disabled-fill-color);\n",
              "    box-shadow: none;\n",
              "  }\n",
              "\n",
              "  .colab-df-spinner {\n",
              "    border: 2px solid var(--fill-color);\n",
              "    border-color: transparent;\n",
              "    border-bottom-color: var(--fill-color);\n",
              "    animation:\n",
              "      spin 1s steps(1) infinite;\n",
              "  }\n",
              "\n",
              "  @keyframes spin {\n",
              "    0% {\n",
              "      border-color: transparent;\n",
              "      border-bottom-color: var(--fill-color);\n",
              "      border-left-color: var(--fill-color);\n",
              "    }\n",
              "    20% {\n",
              "      border-color: transparent;\n",
              "      border-left-color: var(--fill-color);\n",
              "      border-top-color: var(--fill-color);\n",
              "    }\n",
              "    30% {\n",
              "      border-color: transparent;\n",
              "      border-left-color: var(--fill-color);\n",
              "      border-top-color: var(--fill-color);\n",
              "      border-right-color: var(--fill-color);\n",
              "    }\n",
              "    40% {\n",
              "      border-color: transparent;\n",
              "      border-right-color: var(--fill-color);\n",
              "      border-top-color: var(--fill-color);\n",
              "    }\n",
              "    60% {\n",
              "      border-color: transparent;\n",
              "      border-right-color: var(--fill-color);\n",
              "    }\n",
              "    80% {\n",
              "      border-color: transparent;\n",
              "      border-right-color: var(--fill-color);\n",
              "      border-bottom-color: var(--fill-color);\n",
              "    }\n",
              "    90% {\n",
              "      border-color: transparent;\n",
              "      border-bottom-color: var(--fill-color);\n",
              "    }\n",
              "  }\n",
              "</style>\n",
              "\n",
              "  <script>\n",
              "    async function quickchart(key) {\n",
              "      const quickchartButtonEl =\n",
              "        document.querySelector('#' + key + ' button');\n",
              "      quickchartButtonEl.disabled = true;  // To prevent multiple clicks.\n",
              "      quickchartButtonEl.classList.add('colab-df-spinner');\n",
              "      try {\n",
              "        const charts = await google.colab.kernel.invokeFunction(\n",
              "            'suggestCharts', [key], {});\n",
              "      } catch (error) {\n",
              "        console.error('Error during call to suggestCharts:', error);\n",
              "      }\n",
              "      quickchartButtonEl.classList.remove('colab-df-spinner');\n",
              "      quickchartButtonEl.classList.add('colab-df-quickchart-complete');\n",
              "    }\n",
              "    (() => {\n",
              "      let quickchartButtonEl =\n",
              "        document.querySelector('#df-ce7d791b-6ba6-474f-bfbd-1a89544f2545 button');\n",
              "      quickchartButtonEl.style.display =\n",
              "        google.colab.kernel.accessAllowed ? 'block' : 'none';\n",
              "    })();\n",
              "  </script>\n",
              "</div>\n",
              "\n",
              "    </div>\n",
              "  </div>\n"
            ],
            "application/vnd.google.colaboratory.intrinsic+json": {
              "type": "dataframe",
              "summary": "{\n  \"name\": \"df\",\n  \"rows\": 10,\n  \"fields\": [\n    {\n      \"column\": \"comment_id\",\n      \"properties\": {\n        \"dtype\": \"string\",\n        \"num_unique_values\": 10,\n        \"samples\": [\n          \"kf6jot3\",\n          \"kf7l28c\",\n          \"kf62wry\"\n        ],\n        \"semantic_type\": \"\",\n        \"description\": \"\"\n      }\n    },\n    {\n      \"column\": \"comment_body\",\n      \"properties\": {\n        \"dtype\": \"string\",\n        \"num_unique_values\": 10,\n        \"samples\": [\n          \"Yeh good advise. It\\u2019s too steep. For me I\\u2019ll try not smoking first \\ud83d\\ude02\",\n          \"Sadly most of the advice, while useful, is FAR too generalized and tries to fit everyone into a certain \\u201cmold\\u201d. What you should do, is consult a doctor for your physical health and a therapist for your mental health. \\n\\nBecause unlike most of the online clickbait shenanigans, they are paid to not only be more personal than you, but try to help you on a personal level.\",\n          \"I feel you. Living a healthy lifestyle can feel overwhelming, especially when you feel like your existing lifestyle is miles away from what you read about online.\\n\\nHere\\u2019s a tip: make one change at a time. Let\\u2019s use the comic for an example. Drink one litre (4 cups, or about 3 normal glasses) of water a day, and set that as your goal. Do that for a whole week. If you succeeded in this goal, then add one more, like meditating. Now for a week your two goals are water and meditation. Slowly add more and more, one at a time.\\n\\nMaking dramatic change in your life is extremely hard. The biggest mistake people make is going cold-turkey and doing a 180 from their existing lifestyle. All this will do is shock you and you\\u2019ll be so uncomfortable from the myriad changes that not only will you give up, but the trauma of the attempt and shame from the failure will prevent you from trying again in the future.\\n\\nJust take it one step at a time. Small goals first. You can do it, but it needs to be done at a proper pace.\"\n        ],\n        \"semantic_type\": \"\",\n        \"description\": \"\"\n      }\n    }\n  ]\n}"
            }
          },
          "metadata": {},
          "execution_count": 6
        }
      ]
    },
    {
      "cell_type": "code",
      "source": [
        "train_df = df.iloc[:2000, :]\n",
        "test_df = df.iloc[train_df.shape[0]: , :]"
      ],
      "metadata": {
        "id": "wWcQfVg7piNr"
      },
      "execution_count": 7,
      "outputs": []
    },
    {
      "cell_type": "code",
      "source": [
        "train_df.shape, test_df.shape, len(train_df + test_df)"
      ],
      "metadata": {
        "colab": {
          "base_uri": "https://localhost:8080/"
        },
        "id": "2HEzCeMfpjs-",
        "outputId": "7d773876-3ad2-497a-c281-51b048eb79cb"
      },
      "execution_count": 8,
      "outputs": [
        {
          "output_type": "execute_result",
          "data": {
            "text/plain": [
              "((2000, 2), (995, 2), 2995)"
            ]
          },
          "metadata": {},
          "execution_count": 8
        }
      ]
    },
    {
      "cell_type": "markdown",
      "source": [
        "**First I've defined sentiments for each thread using SentimentVader**"
      ],
      "metadata": {
        "id": "PGMghKRxp4oD"
      }
    },
    {
      "cell_type": "code",
      "source": [
        "def preprocess_text(text):\n",
        "    words = word_tokenize(text)\n",
        "    stop_words = set(stopwords.words('english'))\n",
        "    filtered_words = [word for word in words if word not in stop_words]\n",
        "    text = ' '.join(filtered_words)\n",
        "    return text\n",
        "\n",
        "train_df['cleaned_comment_text'] = train_df['comment_body'].apply(preprocess_text)\n",
        "test_df['cleaned_comment_text'] = test_df['comment_body'].apply(preprocess_text)"
      ],
      "metadata": {
        "id": "qeDjQLBDpjwA"
      },
      "execution_count": 9,
      "outputs": []
    },
    {
      "cell_type": "code",
      "source": [
        "from nltk.sentiment.vader import SentimentIntensityAnalyzer\n",
        "\n",
        "nltk.download('vader_lexicon')\n",
        "\n",
        "vader_analyzer = SentimentIntensityAnalyzer()\n",
        "\n",
        "def sentiment_analyzer(text):\n",
        "    scores = vader_analyzer.polarity_scores(text)\n",
        "    compound_score = scores['compound']\n",
        "    return 'positive' if compound_score >= 0 else 'negative'"
      ],
      "metadata": {
        "colab": {
          "base_uri": "https://localhost:8080/"
        },
        "id": "QJIy8oTUprxL",
        "outputId": "a88f7f38-03ce-4239-ec98-0582ab11f36d"
      },
      "execution_count": 10,
      "outputs": [
        {
          "output_type": "stream",
          "name": "stderr",
          "text": [
            "[nltk_data] Downloading package vader_lexicon to /root/nltk_data...\n",
            "[nltk_data]   Package vader_lexicon is already up-to-date!\n"
          ]
        }
      ]
    },
    {
      "cell_type": "code",
      "source": [
        "train_df['sentiment'] = train_df['cleaned_comment_text'].apply(sentiment_analyzer)\n",
        "test_df['sentiment'] = test_df['cleaned_comment_text'].apply(sentiment_analyzer)"
      ],
      "metadata": {
        "id": "XDbt7UYTpr4Q"
      },
      "execution_count": 11,
      "outputs": []
    },
    {
      "cell_type": "code",
      "source": [
        "import seaborn as sns\n",
        "import matplotlib.pyplot as plt\n",
        "sns.set_palette('Set2')\n",
        "sns.countplot(train_df['sentiment'])\n",
        "plt.show()"
      ],
      "metadata": {
        "colab": {
          "base_uri": "https://localhost:8080/",
          "height": 449
        },
        "id": "vpKHt76QpEaJ",
        "outputId": "6d0aab00-cf9f-463f-c409-843f2c744784"
      },
      "execution_count": 12,
      "outputs": [
        {
          "output_type": "display_data",
          "data": {
            "text/plain": [
              "<Figure size 640x480 with 1 Axes>"
            ],
            "image/png": "[encoded data removed]"
          },
          "metadata": {}
        }
      ]
    },
    {
      "cell_type": "markdown",
      "source": [
        "**To address class imbalance -> Class Weight Method**"
      ],
      "metadata": {
        "id": "cJ5XD6-DquM0"
      }
    },
    {
      "cell_type": "code",
      "source": [
        "train_df['label'] = train_df['sentiment'].map({'positive': 1, 'negative': 0})\n",
        "test_df['label'] = test_df['sentiment'].map({'positive': 1, 'negative': 0})\n",
        "\n",
        "\n",
        "X_train, X_val, y_train, y_val = train_test_split(\n",
        "    train_df['comment_body'], train_df['label'], test_size = 0.1, random_state = 43, stratify = train_df['label']\n",
        ")"
      ],
      "metadata": {
        "id": "J9yJmvhLpEcv"
      },
      "execution_count": 13,
      "outputs": []
    },
    {
      "cell_type": "code",
      "source": [
        "from sklearn.utils.class_weight import compute_class_weight\n",
        "import numpy as np\n",
        "\n",
        "class_weight = compute_class_weight(\n",
        "    class_weight = 'balanced',\n",
        "    classes = np.unique(y_train),\n",
        "    y = y_train\n",
        ")"
      ],
      "metadata": {
        "id": "9VSlRvSzB-P4"
      },
      "execution_count": 15,
      "outputs": []
    },
    {
      "cell_type": "code",
      "source": [
        "class_weight_dict = dict(enumerate(class_weight))\n",
        "class_weight_dict"
      ],
      "metadata": {
        "colab": {
          "base_uri": "https://localhost:8080/"
        },
        "id": "hsBeW_-FCi9s",
        "outputId": "df6f3be1-2228-43dc-9e61-f5a1cf6ca1cf"
      },
      "execution_count": 17,
      "outputs": [
        {
          "output_type": "execute_result",
          "data": {
            "text/plain": [
              "{0: 1.5985790408525755, 1: 0.7275666936135813}"
            ]
          },
          "metadata": {},
          "execution_count": 17
        }
      ]
    },
    {
      "cell_type": "markdown",
      "source": [
        "**Bert Model**"
      ],
      "metadata": {
        "id": "iZ6Z1P6ozQeH"
      }
    },
    {
      "cell_type": "code",
      "source": [
        "# Bert Layers\n",
        "text_input = tf.keras.layers.Input(shape=(), dtype=tf.string, name='text')\n",
        "preprocessed_text = preprocessor(text_input)\n",
        "encoded_text = encoder(preprocessed_text)['pooled_output']\n",
        "\n",
        "# NN Layers\n",
        "# Regularization\n",
        "l = tf.keras.layers.Dropout(0.1, name = 'DropOut')(encoded_text)\n",
        "# Fully Connected\n",
        "l = tf.keras.layers.Dense(1, activation = 'sigmoid' ,name = 'Dense')(l)\n",
        "\n",
        "model = tf.keras.Model(inputs = [text_input], outputs = [l])"
      ],
      "metadata": {
        "id": "AKXF3bWmyE6K"
      },
      "execution_count": 18,
      "outputs": []
    },
    {
      "cell_type": "code",
      "source": [
        "model.summary()"
      ],
      "metadata": {
        "colab": {
          "base_uri": "https://localhost:8080/"
        },
        "id": "ybpfO7Q51dok",
        "outputId": "6c9a485a-23c9-41f5-8f1a-3ced82213059"
      },
      "execution_count": 19,
      "outputs": [
        {
          "output_type": "stream",
          "name": "stdout",
          "text": [
            "Model: \"model\"\n",
            "__________________________________________________________________________________________________\n",
            " Layer (type)                Output Shape                 Param #   Connected to                  \n",
            "==================================================================================================\n",
            " text (InputLayer)           [(None,)]                    0         []                            \n",
            "                                                                                                  \n",
            " preprocessing (KerasLayer)  {'input_type_ids': (None,    0         ['text[0][0]']                \n",
            "                             128),                                                                \n",
            "                              'input_mask': (None, 128)                                           \n",
            "                             , 'input_word_ids': (None,                                           \n",
            "                              128)}                                                               \n",
            "                                                                                                  \n",
            " BERT_encoder (KerasLayer)   {'sequence_output': (None,   1094822   ['preprocessing[0][0]',       \n",
            "                              128, 768),                  41         'preprocessing[0][1]',       \n",
            "                              'encoder_outputs': [(None              'preprocessing[0][2]']       \n",
            "                             , 128, 768),                                                         \n",
            "                              (None, 128, 768),                                                   \n",
            "                              (None, 128, 768),                                                   \n",
            "                              (None, 128, 768),                                                   \n",
            "                              (None, 128, 768),                                                   \n",
            "                              (None, 128, 768),                                                   \n",
            "                              (None, 128, 768),                                                   \n",
            "                              (None, 128, 768),                                                   \n",
            "                              (None, 128, 768),                                                   \n",
            "                              (None, 128, 768),                                                   \n",
            "                              (None, 128, 768),                                                   \n",
            "                              (None, 128, 768)],                                                  \n",
            "                              'default': (None, 768),                                             \n",
            "                              'pooled_output': (None, 7                                           \n",
            "                             68)}                                                                 \n",
            "                                                                                                  \n",
            " DropOut (Dropout)           (None, 768)                  0         ['BERT_encoder[0][13]']       \n",
            "                                                                                                  \n",
            " Dense (Dense)               (None, 1)                    769       ['DropOut[0][0]']             \n",
            "                                                                                                  \n",
            "==================================================================================================\n",
            "Total params: 109483010 (417.64 MB)\n",
            "Trainable params: 769 (3.00 KB)\n",
            "Non-trainable params: 109482241 (417.64 MB)\n",
            "__________________________________________________________________________________________________\n"
          ]
        }
      ]
    },
    {
      "cell_type": "code",
      "source": [
        "METRICS = [\n",
        "    tf.keras.metrics.BinaryAccuracy(name='accuracy'),\n",
        "    tf.keras.metrics.Precision(name='precision'),\n",
        "    tf.keras.metrics.Recall(name='recall')\n",
        "]\n",
        "\n",
        "model.compile(\n",
        "    optimizer = 'adam',\n",
        "    loss = 'binary_crossentropy',\n",
        "    metrics = METRICS\n",
        ")"
      ],
      "metadata": {
        "id": "MphWPJ_S6_ew"
      },
      "execution_count": 20,
      "outputs": []
    },
    {
      "cell_type": "code",
      "source": [
        "model.fit(X_train, y_train, epochs=10, batch_size=32, class_weight=class_weight_dict)"
      ],
      "metadata": {
        "colab": {
          "base_uri": "https://localhost:8080/"
        },
        "id": "aQzv60zZ70fC",
        "outputId": "5f7fcc62-0dd5-408a-b55a-3864c81cdf8c"
      },
      "execution_count": 21,
      "outputs": [
        {
          "output_type": "stream",
          "name": "stdout",
          "text": [
            "Epoch 1/10\n",
            "57/57 [==============================] - 31s 353ms/step - loss: 0.7140 - accuracy: 0.5189 - precision: 0.6988 - recall: 0.5271\n",
            "Epoch 2/10\n",
            "57/57 [==============================] - 20s 346ms/step - loss: 0.6871 - accuracy: 0.5300 - precision: 0.7347 - recall: 0.4947\n",
            "Epoch 3/10\n",
            "57/57 [==============================] - 19s 329ms/step - loss: 0.6602 - accuracy: 0.6117 - precision: 0.7701 - recall: 0.6200\n",
            "Epoch 4/10\n",
            "57/57 [==============================] - 19s 337ms/step - loss: 0.6621 - accuracy: 0.5811 - precision: 0.7616 - recall: 0.5683\n",
            "Epoch 5/10\n",
            "57/57 [==============================] - 20s 343ms/step - loss: 0.6448 - accuracy: 0.6128 - precision: 0.7789 - recall: 0.6095\n",
            "Epoch 6/10\n",
            "57/57 [==============================] - 20s 346ms/step - loss: 0.6285 - accuracy: 0.6311 - precision: 0.8032 - recall: 0.6136\n",
            "Epoch 7/10\n",
            "57/57 [==============================] - 19s 337ms/step - loss: 0.6288 - accuracy: 0.6400 - precision: 0.8052 - recall: 0.6281\n",
            "Epoch 8/10\n",
            "57/57 [==============================] - 19s 339ms/step - loss: 0.6155 - accuracy: 0.6717 - precision: 0.8179 - recall: 0.6718\n",
            "Epoch 9/10\n",
            "57/57 [==============================] - 19s 334ms/step - loss: 0.6016 - accuracy: 0.6744 - precision: 0.8387 - recall: 0.6516\n",
            "Epoch 10/10\n",
            "57/57 [==============================] - 19s 339ms/step - loss: 0.5997 - accuracy: 0.6822 - precision: 0.8231 - recall: 0.6847\n"
          ]
        },
        {
          "output_type": "execute_result",
          "data": {
            "text/plain": [
              "<keras.src.callbacks.History at 0x7c0cbd712050>"
            ]
          },
          "metadata": {},
          "execution_count": 21
        }
      ]
    },
    {
      "cell_type": "code",
      "source": [
        "loss = model.evaluate(X_val, y_val)\n",
        "print(f'Accuracy : {loss[0]}')\n",
        "print(f'Precision : {loss[1]}')\n",
        "print(f'Recall : {loss[2]}')\n",
        "print(f'f1 : {loss[3]}')"
      ],
      "metadata": {
        "colab": {
          "base_uri": "https://localhost:8080/"
        },
        "id": "iEYFPHwB76Vz",
        "outputId": "7994092f-aca7-453a-a08d-a78edb221f17"
      },
      "execution_count": 23,
      "outputs": [
        {
          "output_type": "stream",
          "name": "stdout",
          "text": [
            "7/7 [==============================] - 2s 310ms/step - loss: 0.6175 - accuracy: 0.6750 - precision: 0.9091 - recall: 0.5839\n",
            "Accuracy : 0.6174843311309814\n",
            "Precision : 0.675000011920929\n",
            "Recall : 0.9090909361839294\n",
            "f1 : 0.5839415788650513\n"
          ]
        }
      ]
    },
    {
      "cell_type": "code",
      "source": [
        "y_pred = model.predict(X_val)\n",
        "y_pred = y_pred.flatten()\n",
        "y_pred = np.where(y_pred > 0.5, 1, 0)\n",
        "y_pred"
      ],
      "metadata": {
        "colab": {
          "base_uri": "https://localhost:8080/"
        },
        "id": "JZdOXz0f_tIf",
        "outputId": "23c32f48-7a53-4954-9b2e-c07a1a27be98"
      },
      "execution_count": 24,
      "outputs": [
        {
          "output_type": "stream",
          "name": "stdout",
          "text": [
            "7/7 [==============================] - 3s 332ms/step\n"
          ]
        },
        {
          "output_type": "execute_result",
          "data": {
            "text/plain": [
              "array([1, 1, 1, 0, 0, 1, 0, 0, 0, 1, 0, 1, 0, 0, 0, 1, 1, 0, 0, 1, 0, 0,\n",
              "       0, 1, 1, 1, 1, 0, 1, 1, 1, 1, 0, 0, 1, 1, 1, 0, 0, 1, 1, 1, 0, 0,\n",
              "       0, 0, 1, 1, 0, 1, 0, 0, 1, 1, 0, 1, 1, 0, 0, 0, 0, 1, 1, 0, 1, 1,\n",
              "       0, 0, 0, 0, 1, 0, 1, 1, 1, 0, 1, 0, 0, 1, 0, 0, 1, 0, 1, 0, 0, 1,\n",
              "       1, 0, 0, 0, 0, 0, 0, 0, 0, 1, 1, 1, 0, 0, 0, 0, 1, 0, 0, 0, 0, 0,\n",
              "       0, 1, 0, 1, 0, 0, 0, 0, 1, 1, 0, 1, 1, 1, 1, 1, 0, 1, 0, 1, 1, 1,\n",
              "       0, 0, 0, 1, 1, 1, 1, 0, 1, 0, 0, 1, 1, 0, 0, 0, 1, 1, 0, 0, 1, 0,\n",
              "       1, 0, 1, 0, 0, 0, 1, 0, 1, 1, 1, 1, 0, 1, 0, 1, 1, 0, 0, 0, 0, 0,\n",
              "       0, 0, 1, 0, 0, 0, 0, 0, 0, 0, 0, 0, 0, 1, 1, 0, 1, 0, 0, 1, 1, 1,\n",
              "       0, 0])"
            ]
          },
          "metadata": {},
          "execution_count": 24
        }
      ]
    },
    {
      "cell_type": "code",
      "source": [
        "from sklearn.metrics import confusion_matrix, classification_report\n",
        "\n",
        "cm = confusion_matrix(y_val, y_pred)\n",
        "\n",
        "sns.heatmap(cm, annot=True, fmt='d')\n",
        "plt.xlabel('Predicted')\n",
        "plt.ylabel('Truth')"
      ],
      "metadata": {
        "colab": {
          "base_uri": "https://localhost:8080/",
          "height": 472
        },
        "id": "5twXLRVS_tK0",
        "outputId": "64e6d078-c255-4936-bde3-f498fc1c08c5"
      },
      "execution_count": 25,
      "outputs": [
        {
          "output_type": "execute_result",
          "data": {
            "text/plain": [
              "Text(50.722222222222214, 0.5, 'Truth')"
            ]
          },
          "metadata": {},
          "execution_count": 25
        },
        {
          "output_type": "display_data",
          "data": {
            "text/plain": [
              "<Figure size 640x480 with 2 Axes>"
            ],
            "image/png": "[encoded data removed]"
          },
          "metadata": {}
        }
      ]
    },
    {
      "cell_type": "code",
      "source": [
        "print(classification_report(y_val, y_pred))"
      ],
      "metadata": {
        "colab": {
          "base_uri": "https://localhost:8080/"
        },
        "id": "Qo-oYh0g_tOP",
        "outputId": "ed4d32d0-4eeb-4eee-d339-ed6f2efe7f09"
      },
      "execution_count": 26,
      "outputs": [
        {
          "output_type": "stream",
          "name": "stdout",
          "text": [
            "              precision    recall  f1-score   support\n",
            "\n",
            "           0       0.49      0.87      0.63        63\n",
            "           1       0.91      0.58      0.71       137\n",
            "\n",
            "    accuracy                           0.68       200\n",
            "   macro avg       0.70      0.73      0.67       200\n",
            "weighted avg       0.78      0.68      0.69       200\n",
            "\n"
          ]
        }
      ]
    },
    {
      "cell_type": "code",
      "source": [
        "y_test_pred = model.predict(test_df['comment_body'])\n",
        "y_test_pred = np.where(y_test_pred > 0.5 , \"Positive\", \"Negative\").flatten()\n",
        "y_test_pred"
      ],
      "metadata": {
        "colab": {
          "base_uri": "https://localhost:8080/"
        },
        "id": "rmJwbPUyBMKw",
        "outputId": "5557b7b5-8587-445e-9bce-655c06e52dde"
      },
      "execution_count": 27,
      "outputs": [
        {
          "output_type": "stream",
          "name": "stdout",
          "text": [
            "32/32 [==============================] - 11s 338ms/step\n"
          ]
        },
        {
          "output_type": "execute_result",
          "data": {
            "text/plain": [
              "array(['Positive', 'Positive', 'Negative', 'Positive', 'Positive',\n",
              "       'Positive', 'Positive', 'Negative', 'Positive', 'Positive',\n",
              "       'Positive', 'Negative', 'Negative', 'Negative', 'Negative',\n",
              "       'Positive', 'Negative', 'Positive', 'Negative', 'Negative',\n",
              "       'Negative', 'Negative', 'Positive', 'Negative', 'Positive',\n",
              "       'Positive', 'Negative', 'Positive', 'Positive', 'Negative',\n",
              "       'Negative', 'Negative', 'Negative', 'Positive', 'Negative',\n",
              "       'Positive', 'Negative', 'Negative', 'Positive', 'Negative',\n",
              "       'Negative', 'Positive', 'Negative', 'Negative', 'Negative',\n",
              "       'Negative', 'Negative', 'Negative', 'Negative', 'Positive',\n",
              "       'Negative', 'Positive', 'Negative', 'Positive', 'Negative',\n",
              "       'Positive', 'Negative', 'Positive', 'Negative', 'Negative',\n",
              "       'Positive', 'Positive', 'Negative', 'Negative', 'Negative',\n",
              "       'Negative', 'Negative', 'Negative', 'Negative', 'Negative',\n",
              "       'Positive', 'Positive', 'Negative', 'Negative', 'Positive',\n",
              "       'Positive', 'Negative', 'Negative', 'Negative', 'Negative',\n",
              "       'Positive', 'Positive', 'Positive', 'Negative', 'Positive',\n",
              "       'Negative', 'Negative', 'Negative', 'Positive', 'Negative',\n",
              "       'Positive', 'Negative', 'Negative', 'Negative', 'Negative',\n",
              "       'Positive', 'Negative', 'Negative', 'Negative', 'Positive',\n",
              "       'Negative', 'Positive', 'Positive', 'Negative', 'Negative',\n",
              "       'Negative', 'Negative', 'Negative', 'Negative', 'Positive',\n",
              "       'Positive', 'Positive', 'Positive', 'Negative', 'Positive',\n",
              "       'Negative', 'Negative', 'Positive', 'Negative', 'Negative',\n",
              "       'Positive', 'Negative', 'Negative', 'Negative', 'Negative',\n",
              "       'Negative', 'Positive', 'Positive', 'Positive', 'Negative',\n",
              "       'Negative', 'Negative', 'Positive', 'Negative', 'Positive',\n",
              "       'Negative', 'Negative', 'Positive', 'Positive', 'Negative',\n",
              "       'Positive', 'Negative', 'Positive', 'Positive', 'Positive',\n",
              "       'Negative', 'Positive', 'Negative', 'Negative', 'Negative',\n",
              "       'Positive', 'Negative', 'Negative', 'Negative', 'Negative',\n",
              "       'Negative', 'Positive', 'Negative', 'Negative', 'Negative',\n",
              "       'Positive', 'Positive', 'Negative', 'Positive', 'Positive',\n",
              "       'Negative', 'Negative', 'Negative', 'Negative', 'Positive',\n",
              "       'Negative', 'Positive', 'Negative', 'Negative', 'Negative',\n",
              "       'Positive', 'Positive', 'Negative', 'Positive', 'Positive',\n",
              "       'Positive', 'Positive', 'Negative', 'Positive', 'Positive',\n",
              "       'Positive', 'Negative', 'Negative', 'Negative', 'Negative',\n",
              "       'Positive', 'Negative', 'Positive', 'Negative', 'Negative',\n",
              "       'Negative', 'Negative', 'Positive', 'Negative', 'Positive',\n",
              "       'Positive', 'Negative', 'Positive', 'Positive', 'Negative',\n",
              "       'Negative', 'Negative', 'Negative', 'Positive', 'Negative',\n",
              "       'Positive', 'Negative', 'Negative', 'Positive', 'Negative',\n",
              "       'Negative', 'Positive', 'Negative', 'Negative', 'Negative',\n",
              "       'Negative', 'Negative', 'Negative', 'Negative', 'Positive',\n",
              "       'Negative', 'Positive', 'Negative', 'Positive', 'Negative',\n",
              "       'Positive', 'Negative', 'Positive', 'Negative', 'Negative',\n",
              "       'Positive', 'Positive', 'Negative', 'Negative', 'Negative',\n",
              "       'Negative', 'Negative', 'Negative', 'Negative', 'Negative',\n",
              "       'Positive', 'Positive', 'Negative', 'Negative', 'Positive',\n",
              "       'Positive', 'Negative', 'Negative', 'Negative', 'Negative',\n",
              "       'Positive', 'Positive', 'Positive', 'Negative', 'Positive',\n",
              "       'Negative', 'Negative', 'Negative', 'Positive', 'Negative',\n",
              "       'Positive', 'Negative', 'Negative', 'Negative', 'Negative',\n",
              "       'Positive', 'Negative', 'Negative', 'Negative', 'Positive',\n",
              "       'Negative', 'Positive', 'Positive', 'Negative', 'Negative',\n",
              "       'Negative', 'Negative', 'Negative', 'Negative', 'Positive',\n",
              "       'Positive', 'Positive', 'Positive', 'Negative', 'Positive',\n",
              "       'Negative', 'Negative', 'Positive', 'Negative', 'Negative',\n",
              "       'Positive', 'Negative', 'Negative', 'Negative', 'Negative',\n",
              "       'Negative', 'Positive', 'Positive', 'Positive', 'Negative',\n",
              "       'Negative', 'Negative', 'Positive', 'Negative', 'Positive',\n",
              "       'Negative', 'Negative', 'Positive', 'Positive', 'Negative',\n",
              "       'Positive', 'Negative', 'Positive', 'Positive', 'Positive',\n",
              "       'Negative', 'Positive', 'Negative', 'Negative', 'Negative',\n",
              "       'Positive', 'Negative', 'Negative', 'Negative', 'Negative',\n",
              "       'Negative', 'Positive', 'Negative', 'Negative', 'Negative',\n",
              "       'Positive', 'Positive', 'Negative', 'Positive', 'Positive',\n",
              "       'Negative', 'Negative', 'Negative', 'Negative', 'Positive',\n",
              "       'Negative', 'Positive', 'Negative', 'Negative', 'Negative',\n",
              "       'Positive', 'Positive', 'Negative', 'Positive', 'Positive',\n",
              "       'Positive', 'Positive', 'Negative', 'Positive', 'Positive',\n",
              "       'Positive', 'Negative', 'Negative', 'Negative', 'Negative',\n",
              "       'Positive', 'Negative', 'Positive', 'Negative', 'Negative',\n",
              "       'Negative', 'Negative', 'Positive', 'Negative', 'Positive',\n",
              "       'Positive', 'Negative', 'Positive', 'Positive', 'Negative',\n",
              "       'Negative', 'Negative', 'Negative', 'Positive', 'Negative',\n",
              "       'Positive', 'Negative', 'Negative', 'Positive', 'Negative',\n",
              "       'Negative', 'Positive', 'Negative', 'Negative', 'Negative',\n",
              "       'Negative', 'Negative', 'Negative', 'Negative', 'Positive',\n",
              "       'Negative', 'Positive', 'Negative', 'Positive', 'Negative',\n",
              "       'Positive', 'Negative', 'Positive', 'Negative', 'Negative',\n",
              "       'Positive', 'Positive', 'Negative', 'Negative', 'Negative',\n",
              "       'Negative', 'Negative', 'Negative', 'Negative', 'Negative',\n",
              "       'Positive', 'Positive', 'Negative', 'Negative', 'Positive',\n",
              "       'Positive', 'Negative', 'Negative', 'Negative', 'Negative',\n",
              "       'Positive', 'Positive', 'Positive', 'Negative', 'Positive',\n",
              "       'Negative', 'Negative', 'Negative', 'Positive', 'Negative',\n",
              "       'Positive', 'Negative', 'Negative', 'Negative', 'Negative',\n",
              "       'Positive', 'Negative', 'Negative', 'Negative', 'Positive',\n",
              "       'Negative', 'Positive', 'Positive', 'Negative', 'Negative',\n",
              "       'Negative', 'Negative', 'Negative', 'Negative', 'Positive',\n",
              "       'Positive', 'Positive', 'Positive', 'Negative', 'Positive',\n",
              "       'Negative', 'Negative', 'Positive', 'Negative', 'Negative',\n",
              "       'Positive', 'Negative', 'Negative', 'Negative', 'Negative',\n",
              "       'Negative', 'Positive', 'Positive', 'Positive', 'Negative',\n",
              "       'Negative', 'Negative', 'Positive', 'Negative', 'Positive',\n",
              "       'Negative', 'Negative', 'Positive', 'Positive', 'Negative',\n",
              "       'Positive', 'Negative', 'Positive', 'Positive', 'Positive',\n",
              "       'Negative', 'Positive', 'Negative', 'Negative', 'Negative',\n",
              "       'Positive', 'Negative', 'Negative', 'Negative', 'Negative',\n",
              "       'Negative', 'Positive', 'Negative', 'Negative', 'Negative',\n",
              "       'Positive', 'Positive', 'Negative', 'Positive', 'Positive',\n",
              "       'Negative', 'Negative', 'Negative', 'Negative', 'Positive',\n",
              "       'Negative', 'Positive', 'Negative', 'Negative', 'Negative',\n",
              "       'Positive', 'Positive', 'Negative', 'Positive', 'Positive',\n",
              "       'Positive', 'Positive', 'Negative', 'Positive', 'Positive',\n",
              "       'Positive', 'Negative', 'Negative', 'Negative', 'Negative',\n",
              "       'Positive', 'Negative', 'Positive', 'Negative', 'Negative',\n",
              "       'Negative', 'Negative', 'Positive', 'Negative', 'Positive',\n",
              "       'Positive', 'Negative', 'Positive', 'Positive', 'Negative',\n",
              "       'Negative', 'Negative', 'Negative', 'Positive', 'Negative',\n",
              "       'Positive', 'Negative', 'Negative', 'Positive', 'Negative',\n",
              "       'Negative', 'Positive', 'Negative', 'Negative', 'Negative',\n",
              "       'Negative', 'Negative', 'Negative', 'Negative', 'Positive',\n",
              "       'Negative', 'Positive', 'Negative', 'Positive', 'Negative',\n",
              "       'Positive', 'Negative', 'Positive', 'Negative', 'Negative',\n",
              "       'Positive', 'Positive', 'Negative', 'Negative', 'Negative',\n",
              "       'Negative', 'Negative', 'Negative', 'Negative', 'Negative',\n",
              "       'Positive', 'Positive', 'Negative', 'Negative', 'Positive',\n",
              "       'Positive', 'Negative', 'Negative', 'Negative', 'Negative',\n",
              "       'Positive', 'Positive', 'Positive', 'Negative', 'Positive',\n",
              "       'Negative', 'Negative', 'Negative', 'Positive', 'Negative',\n",
              "       'Positive', 'Negative', 'Negative', 'Negative', 'Negative',\n",
              "       'Positive', 'Negative', 'Negative', 'Negative', 'Positive',\n",
              "       'Negative', 'Positive', 'Positive', 'Negative', 'Negative',\n",
              "       'Negative', 'Negative', 'Negative', 'Negative', 'Positive',\n",
              "       'Positive', 'Positive', 'Positive', 'Negative', 'Positive',\n",
              "       'Negative', 'Negative', 'Positive', 'Negative', 'Negative',\n",
              "       'Positive', 'Negative', 'Negative', 'Negative', 'Negative',\n",
              "       'Negative', 'Positive', 'Positive', 'Positive', 'Negative',\n",
              "       'Negative', 'Negative', 'Positive', 'Negative', 'Positive',\n",
              "       'Negative', 'Negative', 'Positive', 'Positive', 'Negative',\n",
              "       'Positive', 'Negative', 'Positive', 'Positive', 'Positive',\n",
              "       'Negative', 'Positive', 'Negative', 'Negative', 'Negative',\n",
              "       'Positive', 'Negative', 'Negative', 'Negative', 'Negative',\n",
              "       'Negative', 'Positive', 'Negative', 'Negative', 'Negative',\n",
              "       'Positive', 'Positive', 'Negative', 'Positive', 'Positive',\n",
              "       'Negative', 'Negative', 'Negative', 'Negative', 'Positive',\n",
              "       'Negative', 'Positive', 'Negative', 'Negative', 'Negative',\n",
              "       'Positive', 'Positive', 'Negative', 'Positive', 'Positive',\n",
              "       'Positive', 'Positive', 'Negative', 'Positive', 'Positive',\n",
              "       'Positive', 'Negative', 'Negative', 'Negative', 'Negative',\n",
              "       'Positive', 'Negative', 'Positive', 'Negative', 'Negative',\n",
              "       'Negative', 'Negative', 'Positive', 'Negative', 'Positive',\n",
              "       'Positive', 'Negative', 'Positive', 'Positive', 'Negative',\n",
              "       'Negative', 'Negative', 'Negative', 'Positive', 'Negative',\n",
              "       'Positive', 'Negative', 'Negative', 'Positive', 'Negative',\n",
              "       'Negative', 'Positive', 'Negative', 'Negative', 'Negative',\n",
              "       'Negative', 'Negative', 'Negative', 'Negative', 'Positive',\n",
              "       'Negative', 'Positive', 'Negative', 'Positive', 'Negative',\n",
              "       'Positive', 'Negative', 'Positive', 'Negative', 'Negative',\n",
              "       'Positive', 'Positive', 'Negative', 'Negative', 'Negative',\n",
              "       'Negative', 'Negative', 'Negative', 'Negative', 'Negative',\n",
              "       'Positive', 'Positive', 'Negative', 'Negative', 'Positive',\n",
              "       'Positive', 'Negative', 'Negative', 'Negative', 'Negative',\n",
              "       'Positive', 'Positive', 'Positive', 'Negative', 'Positive',\n",
              "       'Negative', 'Negative', 'Negative', 'Positive', 'Negative',\n",
              "       'Positive', 'Negative', 'Negative', 'Negative', 'Negative',\n",
              "       'Positive', 'Negative', 'Negative', 'Negative', 'Positive',\n",
              "       'Negative', 'Positive', 'Positive', 'Negative', 'Negative',\n",
              "       'Negative', 'Negative', 'Negative', 'Negative', 'Positive',\n",
              "       'Positive', 'Positive', 'Positive', 'Negative', 'Positive',\n",
              "       'Negative', 'Negative', 'Positive', 'Negative', 'Negative',\n",
              "       'Positive', 'Negative', 'Negative', 'Negative', 'Negative',\n",
              "       'Negative', 'Positive', 'Positive', 'Positive', 'Negative',\n",
              "       'Negative', 'Negative', 'Positive', 'Negative', 'Positive',\n",
              "       'Negative', 'Negative', 'Positive', 'Positive', 'Negative',\n",
              "       'Positive', 'Negative', 'Positive', 'Positive', 'Positive',\n",
              "       'Negative', 'Positive', 'Negative', 'Negative', 'Negative',\n",
              "       'Positive', 'Negative', 'Negative', 'Negative', 'Negative',\n",
              "       'Negative', 'Positive', 'Negative', 'Negative', 'Negative',\n",
              "       'Positive', 'Positive', 'Negative', 'Positive', 'Positive',\n",
              "       'Negative', 'Negative', 'Negative', 'Negative', 'Positive',\n",
              "       'Negative', 'Positive', 'Negative', 'Negative', 'Negative',\n",
              "       'Positive', 'Positive', 'Negative', 'Positive', 'Positive',\n",
              "       'Positive', 'Positive', 'Negative', 'Positive', 'Positive',\n",
              "       'Positive', 'Negative', 'Negative', 'Negative', 'Negative',\n",
              "       'Positive', 'Negative', 'Positive', 'Negative', 'Negative',\n",
              "       'Negative', 'Negative', 'Positive', 'Negative', 'Positive',\n",
              "       'Positive', 'Negative', 'Positive', 'Positive', 'Negative',\n",
              "       'Negative', 'Negative', 'Negative', 'Positive', 'Negative',\n",
              "       'Positive', 'Negative', 'Negative', 'Positive', 'Negative',\n",
              "       'Negative', 'Positive', 'Negative', 'Negative', 'Negative',\n",
              "       'Negative', 'Negative', 'Negative', 'Negative', 'Positive',\n",
              "       'Negative', 'Positive', 'Negative', 'Positive', 'Negative',\n",
              "       'Positive', 'Negative', 'Positive', 'Negative', 'Negative',\n",
              "       'Positive', 'Positive', 'Negative', 'Negative', 'Negative',\n",
              "       'Negative', 'Negative', 'Negative', 'Negative', 'Negative',\n",
              "       'Positive', 'Positive', 'Negative', 'Negative', 'Positive',\n",
              "       'Positive', 'Negative', 'Negative', 'Negative', 'Negative',\n",
              "       'Positive', 'Positive', 'Positive', 'Negative', 'Positive',\n",
              "       'Negative', 'Negative', 'Negative', 'Positive', 'Negative',\n",
              "       'Positive', 'Negative', 'Negative', 'Negative', 'Negative',\n",
              "       'Positive', 'Negative', 'Negative', 'Negative', 'Positive',\n",
              "       'Negative', 'Positive', 'Positive', 'Negative', 'Negative',\n",
              "       'Negative', 'Negative', 'Negative', 'Negative', 'Positive',\n",
              "       'Positive', 'Positive', 'Positive', 'Negative', 'Positive',\n",
              "       'Negative', 'Negative', 'Positive', 'Negative', 'Negative'],\n",
              "      dtype='<U8')"
            ]
          },
          "metadata": {},
          "execution_count": 27
        }
      ]
    },
    {
      "cell_type": "code",
      "source": [
        "sub_threads = [\n",
        "    \"I feel empty, nothing makes me happy\",\n",
        "    \"Anyone else just soo exhausted from life?\",\n",
        "    \"What's something that recently made you happy?\",\n",
        "    \"Share your best 'feel-good' story\"\n",
        "]\n",
        "\n",
        "sub_threads_pred = model.predict(sub_threads)"
      ],
      "metadata": {
        "colab": {
          "base_uri": "https://localhost:8080/"
        },
        "id": "gilyG__IBXNf",
        "outputId": "0e6e40de-c05c-4d80-dabd-cae78289caec"
      },
      "execution_count": 28,
      "outputs": [
        {
          "output_type": "stream",
          "name": "stdout",
          "text": [
            "1/1 [==============================] - 1s 776ms/step\n"
          ]
        }
      ]
    },
    {
      "cell_type": "code",
      "source": [
        "result = np.where(sub_threads_pred > 0.5 , \"Positive\", \"Negative\").flatten()\n",
        "result"
      ],
      "metadata": {
        "id": "s4GgkP8TCx76",
        "colab": {
          "base_uri": "https://localhost:8080/"
        },
        "outputId": "0fa5a7ec-9282-424b-91e7-9753bf16635f"
      },
      "execution_count": 29,
      "outputs": [
        {
          "output_type": "execute_result",
          "data": {
            "text/plain": [
              "array(['Negative', 'Positive', 'Negative', 'Positive'], dtype='<U8')"
            ]
          },
          "metadata": {},
          "execution_count": 29
        }
      ]
    },
    {
      "cell_type": "code",
      "source": [],
      "metadata": {
        "id": "JHUdtLL67zmv"
      },
      "execution_count": null,
      "outputs": []
    }
  ]
}